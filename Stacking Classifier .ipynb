{
 "cells": [
  {
   "cell_type": "code",
   "execution_count": 72,
   "metadata": {},
   "outputs": [],
   "source": [
    "import pandas as pd\n",
    "from pandas.plotting import scatter_matrix\n",
    "import matplotlib.pyplot as plt\n",
    "from sklearn import model_selection\n",
    "from sklearn.metrics import classification_report\n",
    "from sklearn.metrics import confusion_matrix\n",
    "from sklearn.metrics import accuracy_score\n",
    "from sklearn.linear_model import LogisticRegression\n",
    "from sklearn.tree import DecisionTreeClassifier\n",
    "from sklearn.neighbors import KNeighborsClassifier\n",
    "from sklearn.discriminant_analysis import LinearDiscriminantAnalysis\n",
    "from sklearn.naive_bayes import GaussianNB\n",
    "from sklearn.svm import SVC\n",
    "from sklearn.model_selection import train_test_split\n",
    "from sklearn.linear_model import LinearRegression\n",
    "from sklearn.linear_model import LogisticRegression\n",
    "import numpy as np\n",
    "import pandas as pd\n",
    "from sklearn.preprocessing import StandardScaler\n",
    "from sklearn.metrics import f1_score\n",
    "from sklearn.metrics import accuracy_score\n",
    "%matplotlib inline\n",
    "import seaborn as sns\n",
    "import pandas as pd\n",
    "from sklearn.naive_bayes import GaussianNB\n",
    "from sklearn.model_selection import train_test_split\n",
    "from sklearn.preprocessing import LabelEncoder\n"
   ]
  },
  {
   "cell_type": "code",
   "execution_count": 73,
   "metadata": {},
   "outputs": [
    {
     "data": {
      "text/html": [
       "<div>\n",
       "<style scoped>\n",
       "    .dataframe tbody tr th:only-of-type {\n",
       "        vertical-align: middle;\n",
       "    }\n",
       "\n",
       "    .dataframe tbody tr th {\n",
       "        vertical-align: top;\n",
       "    }\n",
       "\n",
       "    .dataframe thead th {\n",
       "        text-align: right;\n",
       "    }\n",
       "</style>\n",
       "<table border=\"1\" class=\"dataframe\">\n",
       "  <thead>\n",
       "    <tr style=\"text-align: right;\">\n",
       "      <th></th>\n",
       "      <th>Age</th>\n",
       "      <th>Gender</th>\n",
       "      <th>Stream</th>\n",
       "      <th>Internships</th>\n",
       "      <th>CGPA</th>\n",
       "      <th>Hostel</th>\n",
       "      <th>HistoryOfBacklogs</th>\n",
       "      <th>PlacedOrNot</th>\n",
       "    </tr>\n",
       "  </thead>\n",
       "  <tbody>\n",
       "    <tr>\n",
       "      <th>0</th>\n",
       "      <td>22</td>\n",
       "      <td>Male</td>\n",
       "      <td>Electronics And Communication</td>\n",
       "      <td>1</td>\n",
       "      <td>8</td>\n",
       "      <td>1</td>\n",
       "      <td>1</td>\n",
       "      <td>1</td>\n",
       "    </tr>\n",
       "    <tr>\n",
       "      <th>1</th>\n",
       "      <td>21</td>\n",
       "      <td>Female</td>\n",
       "      <td>Computer Science</td>\n",
       "      <td>0</td>\n",
       "      <td>7</td>\n",
       "      <td>1</td>\n",
       "      <td>1</td>\n",
       "      <td>1</td>\n",
       "    </tr>\n",
       "    <tr>\n",
       "      <th>2</th>\n",
       "      <td>22</td>\n",
       "      <td>Female</td>\n",
       "      <td>Information Technology</td>\n",
       "      <td>1</td>\n",
       "      <td>6</td>\n",
       "      <td>0</td>\n",
       "      <td>0</td>\n",
       "      <td>1</td>\n",
       "    </tr>\n",
       "    <tr>\n",
       "      <th>3</th>\n",
       "      <td>21</td>\n",
       "      <td>Male</td>\n",
       "      <td>Information Technology</td>\n",
       "      <td>0</td>\n",
       "      <td>8</td>\n",
       "      <td>0</td>\n",
       "      <td>1</td>\n",
       "      <td>1</td>\n",
       "    </tr>\n",
       "    <tr>\n",
       "      <th>4</th>\n",
       "      <td>22</td>\n",
       "      <td>Male</td>\n",
       "      <td>Mechanical</td>\n",
       "      <td>0</td>\n",
       "      <td>8</td>\n",
       "      <td>1</td>\n",
       "      <td>0</td>\n",
       "      <td>1</td>\n",
       "    </tr>\n",
       "  </tbody>\n",
       "</table>\n",
       "</div>"
      ],
      "text/plain": [
       "   Age  Gender                         Stream  Internships  CGPA  Hostel  \\\n",
       "0   22    Male  Electronics And Communication            1     8       1   \n",
       "1   21  Female               Computer Science            0     7       1   \n",
       "2   22  Female         Information Technology            1     6       0   \n",
       "3   21    Male         Information Technology            0     8       0   \n",
       "4   22    Male                     Mechanical            0     8       1   \n",
       "\n",
       "   HistoryOfBacklogs  PlacedOrNot  \n",
       "0                  1            1  \n",
       "1                  1            1  \n",
       "2                  0            1  \n",
       "3                  1            1  \n",
       "4                  0            1  "
      ]
     },
     "execution_count": 73,
     "metadata": {},
     "output_type": "execute_result"
    }
   ],
   "source": [
    "df=pd.read_csv(\"file:///C:/Users/Md%20Asif%20Ikbal/Downloads/collegePlace.csv\")\n",
    "df.head()"
   ]
  },
  {
   "cell_type": "code",
   "execution_count": 74,
   "metadata": {},
   "outputs": [
    {
     "data": {
      "text/plain": [
       "(2966, 8)"
      ]
     },
     "execution_count": 74,
     "metadata": {},
     "output_type": "execute_result"
    }
   ],
   "source": [
    "df.shape"
   ]
  },
  {
   "cell_type": "code",
   "execution_count": 75,
   "metadata": {},
   "outputs": [],
   "source": [
    "from sklearn.preprocessing import LabelEncoder"
   ]
  },
  {
   "cell_type": "code",
   "execution_count": 76,
   "metadata": {},
   "outputs": [],
   "source": [
    "le=LabelEncoder()"
   ]
  },
  {
   "cell_type": "code",
   "execution_count": 77,
   "metadata": {},
   "outputs": [],
   "source": [
    "df['Gender']=le.fit_transform(df['Gender'])"
   ]
  },
  {
   "cell_type": "code",
   "execution_count": 78,
   "metadata": {},
   "outputs": [],
   "source": [
    "df['Stream']=le.fit_transform(df['Stream'])"
   ]
  },
  {
   "cell_type": "code",
   "execution_count": 79,
   "metadata": {},
   "outputs": [
    {
     "data": {
      "text/html": [
       "<div>\n",
       "<style scoped>\n",
       "    .dataframe tbody tr th:only-of-type {\n",
       "        vertical-align: middle;\n",
       "    }\n",
       "\n",
       "    .dataframe tbody tr th {\n",
       "        vertical-align: top;\n",
       "    }\n",
       "\n",
       "    .dataframe thead th {\n",
       "        text-align: right;\n",
       "    }\n",
       "</style>\n",
       "<table border=\"1\" class=\"dataframe\">\n",
       "  <thead>\n",
       "    <tr style=\"text-align: right;\">\n",
       "      <th></th>\n",
       "      <th>Age</th>\n",
       "      <th>Gender</th>\n",
       "      <th>Stream</th>\n",
       "      <th>Internships</th>\n",
       "      <th>CGPA</th>\n",
       "      <th>Hostel</th>\n",
       "      <th>HistoryOfBacklogs</th>\n",
       "      <th>PlacedOrNot</th>\n",
       "    </tr>\n",
       "  </thead>\n",
       "  <tbody>\n",
       "    <tr>\n",
       "      <th>0</th>\n",
       "      <td>22</td>\n",
       "      <td>1</td>\n",
       "      <td>3</td>\n",
       "      <td>1</td>\n",
       "      <td>8</td>\n",
       "      <td>1</td>\n",
       "      <td>1</td>\n",
       "      <td>1</td>\n",
       "    </tr>\n",
       "    <tr>\n",
       "      <th>1</th>\n",
       "      <td>21</td>\n",
       "      <td>0</td>\n",
       "      <td>1</td>\n",
       "      <td>0</td>\n",
       "      <td>7</td>\n",
       "      <td>1</td>\n",
       "      <td>1</td>\n",
       "      <td>1</td>\n",
       "    </tr>\n",
       "    <tr>\n",
       "      <th>2</th>\n",
       "      <td>22</td>\n",
       "      <td>0</td>\n",
       "      <td>4</td>\n",
       "      <td>1</td>\n",
       "      <td>6</td>\n",
       "      <td>0</td>\n",
       "      <td>0</td>\n",
       "      <td>1</td>\n",
       "    </tr>\n",
       "    <tr>\n",
       "      <th>3</th>\n",
       "      <td>21</td>\n",
       "      <td>1</td>\n",
       "      <td>4</td>\n",
       "      <td>0</td>\n",
       "      <td>8</td>\n",
       "      <td>0</td>\n",
       "      <td>1</td>\n",
       "      <td>1</td>\n",
       "    </tr>\n",
       "    <tr>\n",
       "      <th>4</th>\n",
       "      <td>22</td>\n",
       "      <td>1</td>\n",
       "      <td>5</td>\n",
       "      <td>0</td>\n",
       "      <td>8</td>\n",
       "      <td>1</td>\n",
       "      <td>0</td>\n",
       "      <td>1</td>\n",
       "    </tr>\n",
       "  </tbody>\n",
       "</table>\n",
       "</div>"
      ],
      "text/plain": [
       "   Age  Gender  Stream  Internships  CGPA  Hostel  HistoryOfBacklogs  \\\n",
       "0   22       1       3            1     8       1                  1   \n",
       "1   21       0       1            0     7       1                  1   \n",
       "2   22       0       4            1     6       0                  0   \n",
       "3   21       1       4            0     8       0                  1   \n",
       "4   22       1       5            0     8       1                  0   \n",
       "\n",
       "   PlacedOrNot  \n",
       "0            1  \n",
       "1            1  \n",
       "2            1  \n",
       "3            1  \n",
       "4            1  "
      ]
     },
     "execution_count": 79,
     "metadata": {},
     "output_type": "execute_result"
    }
   ],
   "source": [
    "df.head()"
   ]
  },
  {
   "cell_type": "code",
   "execution_count": 80,
   "metadata": {},
   "outputs": [
    {
     "name": "stdout",
     "output_type": "stream",
     "text": [
      "<class 'pandas.core.frame.DataFrame'>\n",
      "RangeIndex: 2966 entries, 0 to 2965\n",
      "Data columns (total 8 columns):\n",
      " #   Column             Non-Null Count  Dtype\n",
      "---  ------             --------------  -----\n",
      " 0   Age                2966 non-null   int64\n",
      " 1   Gender             2966 non-null   int32\n",
      " 2   Stream             2966 non-null   int32\n",
      " 3   Internships        2966 non-null   int64\n",
      " 4   CGPA               2966 non-null   int64\n",
      " 5   Hostel             2966 non-null   int64\n",
      " 6   HistoryOfBacklogs  2966 non-null   int64\n",
      " 7   PlacedOrNot        2966 non-null   int64\n",
      "dtypes: int32(2), int64(6)\n",
      "memory usage: 162.3 KB\n"
     ]
    }
   ],
   "source": [
    "df.info()"
   ]
  },
  {
   "cell_type": "code",
   "execution_count": 81,
   "metadata": {},
   "outputs": [
    {
     "data": {
      "text/plain": [
       "Age                  int64\n",
       "Gender               int32\n",
       "Stream               int32\n",
       "Internships          int64\n",
       "CGPA                 int64\n",
       "Hostel               int64\n",
       "HistoryOfBacklogs    int64\n",
       "PlacedOrNot          int64\n",
       "dtype: object"
      ]
     },
     "execution_count": 81,
     "metadata": {},
     "output_type": "execute_result"
    }
   ],
   "source": [
    "df.dtypes"
   ]
  },
  {
   "cell_type": "code",
   "execution_count": 82,
   "metadata": {},
   "outputs": [
    {
     "data": {
      "text/html": [
       "<div>\n",
       "<style scoped>\n",
       "    .dataframe tbody tr th:only-of-type {\n",
       "        vertical-align: middle;\n",
       "    }\n",
       "\n",
       "    .dataframe tbody tr th {\n",
       "        vertical-align: top;\n",
       "    }\n",
       "\n",
       "    .dataframe thead th {\n",
       "        text-align: right;\n",
       "    }\n",
       "</style>\n",
       "<table border=\"1\" class=\"dataframe\">\n",
       "  <thead>\n",
       "    <tr style=\"text-align: right;\">\n",
       "      <th></th>\n",
       "      <th>Age</th>\n",
       "      <th>Gender</th>\n",
       "      <th>Stream</th>\n",
       "      <th>Internships</th>\n",
       "      <th>CGPA</th>\n",
       "      <th>Hostel</th>\n",
       "      <th>HistoryOfBacklogs</th>\n",
       "      <th>PlacedOrNot</th>\n",
       "    </tr>\n",
       "  </thead>\n",
       "  <tbody>\n",
       "    <tr>\n",
       "      <th>count</th>\n",
       "      <td>2966.000000</td>\n",
       "      <td>2966.000000</td>\n",
       "      <td>2966.000000</td>\n",
       "      <td>2966.000000</td>\n",
       "      <td>2966.000000</td>\n",
       "      <td>2966.000000</td>\n",
       "      <td>2966.000000</td>\n",
       "      <td>2966.000000</td>\n",
       "    </tr>\n",
       "    <tr>\n",
       "      <th>mean</th>\n",
       "      <td>21.485840</td>\n",
       "      <td>0.834457</td>\n",
       "      <td>2.562374</td>\n",
       "      <td>0.703641</td>\n",
       "      <td>7.073837</td>\n",
       "      <td>0.269049</td>\n",
       "      <td>0.192178</td>\n",
       "      <td>0.552596</td>\n",
       "    </tr>\n",
       "    <tr>\n",
       "      <th>std</th>\n",
       "      <td>1.324933</td>\n",
       "      <td>0.371732</td>\n",
       "      <td>1.653853</td>\n",
       "      <td>0.740197</td>\n",
       "      <td>0.967748</td>\n",
       "      <td>0.443540</td>\n",
       "      <td>0.394079</td>\n",
       "      <td>0.497310</td>\n",
       "    </tr>\n",
       "    <tr>\n",
       "      <th>min</th>\n",
       "      <td>19.000000</td>\n",
       "      <td>0.000000</td>\n",
       "      <td>0.000000</td>\n",
       "      <td>0.000000</td>\n",
       "      <td>5.000000</td>\n",
       "      <td>0.000000</td>\n",
       "      <td>0.000000</td>\n",
       "      <td>0.000000</td>\n",
       "    </tr>\n",
       "    <tr>\n",
       "      <th>25%</th>\n",
       "      <td>21.000000</td>\n",
       "      <td>1.000000</td>\n",
       "      <td>1.000000</td>\n",
       "      <td>0.000000</td>\n",
       "      <td>6.000000</td>\n",
       "      <td>0.000000</td>\n",
       "      <td>0.000000</td>\n",
       "      <td>0.000000</td>\n",
       "    </tr>\n",
       "    <tr>\n",
       "      <th>50%</th>\n",
       "      <td>21.000000</td>\n",
       "      <td>1.000000</td>\n",
       "      <td>3.000000</td>\n",
       "      <td>1.000000</td>\n",
       "      <td>7.000000</td>\n",
       "      <td>0.000000</td>\n",
       "      <td>0.000000</td>\n",
       "      <td>1.000000</td>\n",
       "    </tr>\n",
       "    <tr>\n",
       "      <th>75%</th>\n",
       "      <td>22.000000</td>\n",
       "      <td>1.000000</td>\n",
       "      <td>4.000000</td>\n",
       "      <td>1.000000</td>\n",
       "      <td>8.000000</td>\n",
       "      <td>1.000000</td>\n",
       "      <td>0.000000</td>\n",
       "      <td>1.000000</td>\n",
       "    </tr>\n",
       "    <tr>\n",
       "      <th>max</th>\n",
       "      <td>30.000000</td>\n",
       "      <td>1.000000</td>\n",
       "      <td>5.000000</td>\n",
       "      <td>3.000000</td>\n",
       "      <td>9.000000</td>\n",
       "      <td>1.000000</td>\n",
       "      <td>1.000000</td>\n",
       "      <td>1.000000</td>\n",
       "    </tr>\n",
       "  </tbody>\n",
       "</table>\n",
       "</div>"
      ],
      "text/plain": [
       "               Age       Gender       Stream  Internships         CGPA  \\\n",
       "count  2966.000000  2966.000000  2966.000000  2966.000000  2966.000000   \n",
       "mean     21.485840     0.834457     2.562374     0.703641     7.073837   \n",
       "std       1.324933     0.371732     1.653853     0.740197     0.967748   \n",
       "min      19.000000     0.000000     0.000000     0.000000     5.000000   \n",
       "25%      21.000000     1.000000     1.000000     0.000000     6.000000   \n",
       "50%      21.000000     1.000000     3.000000     1.000000     7.000000   \n",
       "75%      22.000000     1.000000     4.000000     1.000000     8.000000   \n",
       "max      30.000000     1.000000     5.000000     3.000000     9.000000   \n",
       "\n",
       "            Hostel  HistoryOfBacklogs  PlacedOrNot  \n",
       "count  2966.000000        2966.000000  2966.000000  \n",
       "mean      0.269049           0.192178     0.552596  \n",
       "std       0.443540           0.394079     0.497310  \n",
       "min       0.000000           0.000000     0.000000  \n",
       "25%       0.000000           0.000000     0.000000  \n",
       "50%       0.000000           0.000000     1.000000  \n",
       "75%       1.000000           0.000000     1.000000  \n",
       "max       1.000000           1.000000     1.000000  "
      ]
     },
     "execution_count": 82,
     "metadata": {},
     "output_type": "execute_result"
    }
   ],
   "source": [
    "df.describe()"
   ]
  },
  {
   "cell_type": "code",
   "execution_count": 83,
   "metadata": {},
   "outputs": [
    {
     "data": {
      "text/html": [
       "<div>\n",
       "<style scoped>\n",
       "    .dataframe tbody tr th:only-of-type {\n",
       "        vertical-align: middle;\n",
       "    }\n",
       "\n",
       "    .dataframe tbody tr th {\n",
       "        vertical-align: top;\n",
       "    }\n",
       "\n",
       "    .dataframe thead th {\n",
       "        text-align: right;\n",
       "    }\n",
       "</style>\n",
       "<table border=\"1\" class=\"dataframe\">\n",
       "  <thead>\n",
       "    <tr style=\"text-align: right;\">\n",
       "      <th></th>\n",
       "      <th>Age</th>\n",
       "      <th>Gender</th>\n",
       "      <th>Stream</th>\n",
       "      <th>Internships</th>\n",
       "      <th>CGPA</th>\n",
       "      <th>Hostel</th>\n",
       "      <th>HistoryOfBacklogs</th>\n",
       "      <th>PlacedOrNot</th>\n",
       "    </tr>\n",
       "  </thead>\n",
       "  <tbody>\n",
       "    <tr>\n",
       "      <th>count</th>\n",
       "      <td>8.000000</td>\n",
       "      <td>8.000000</td>\n",
       "      <td>8.000000</td>\n",
       "      <td>8.000000</td>\n",
       "      <td>8.000000</td>\n",
       "      <td>8.000000</td>\n",
       "      <td>8.000000</td>\n",
       "      <td>8.000000</td>\n",
       "    </tr>\n",
       "    <tr>\n",
       "      <th>mean</th>\n",
       "      <td>0.110148</td>\n",
       "      <td>0.090594</td>\n",
       "      <td>0.156680</td>\n",
       "      <td>0.132380</td>\n",
       "      <td>0.188877</td>\n",
       "      <td>0.145346</td>\n",
       "      <td>0.132782</td>\n",
       "      <td>0.218630</td>\n",
       "    </tr>\n",
       "    <tr>\n",
       "      <th>std</th>\n",
       "      <td>0.362904</td>\n",
       "      <td>0.374632</td>\n",
       "      <td>0.355168</td>\n",
       "      <td>0.359137</td>\n",
       "      <td>0.392115</td>\n",
       "      <td>0.370169</td>\n",
       "      <td>0.353149</td>\n",
       "      <td>0.378055</td>\n",
       "    </tr>\n",
       "    <tr>\n",
       "      <th>min</th>\n",
       "      <td>-0.119787</td>\n",
       "      <td>-0.200254</td>\n",
       "      <td>-0.058317</td>\n",
       "      <td>-0.081526</td>\n",
       "      <td>-0.119787</td>\n",
       "      <td>-0.200254</td>\n",
       "      <td>-0.042586</td>\n",
       "      <td>-0.038182</td>\n",
       "    </tr>\n",
       "    <tr>\n",
       "      <th>25%</th>\n",
       "      <td>-0.026800</td>\n",
       "      <td>-0.036535</td>\n",
       "      <td>0.003787</td>\n",
       "      <td>-0.025918</td>\n",
       "      <td>0.001054</td>\n",
       "      <td>-0.007264</td>\n",
       "      <td>-0.016923</td>\n",
       "      <td>-0.010613</td>\n",
       "    </tr>\n",
       "    <tr>\n",
       "      <th>50%</th>\n",
       "      <td>0.004797</td>\n",
       "      <td>-0.005109</td>\n",
       "      <td>0.009312</td>\n",
       "      <td>0.005585</td>\n",
       "      <td>0.009796</td>\n",
       "      <td>0.009804</td>\n",
       "      <td>0.006320</td>\n",
       "      <td>0.024142</td>\n",
       "    </tr>\n",
       "    <tr>\n",
       "      <th>75%</th>\n",
       "      <td>0.018156</td>\n",
       "      <td>0.015642</td>\n",
       "      <td>0.077866</td>\n",
       "      <td>0.062455</td>\n",
       "      <td>0.164784</td>\n",
       "      <td>0.146391</td>\n",
       "      <td>0.045491</td>\n",
       "      <td>0.281662</td>\n",
       "    </tr>\n",
       "    <tr>\n",
       "      <th>max</th>\n",
       "      <td>1.000000</td>\n",
       "      <td>1.000000</td>\n",
       "      <td>1.000000</td>\n",
       "      <td>1.000000</td>\n",
       "      <td>1.000000</td>\n",
       "      <td>1.000000</td>\n",
       "      <td>1.000000</td>\n",
       "      <td>1.000000</td>\n",
       "    </tr>\n",
       "  </tbody>\n",
       "</table>\n",
       "</div>"
      ],
      "text/plain": [
       "            Age    Gender    Stream  Internships      CGPA    Hostel  \\\n",
       "count  8.000000  8.000000  8.000000     8.000000  8.000000  8.000000   \n",
       "mean   0.110148  0.090594  0.156680     0.132380  0.188877  0.145346   \n",
       "std    0.362904  0.374632  0.355168     0.359137  0.392115  0.370169   \n",
       "min   -0.119787 -0.200254 -0.058317    -0.081526 -0.119787 -0.200254   \n",
       "25%   -0.026800 -0.036535  0.003787    -0.025918  0.001054 -0.007264   \n",
       "50%    0.004797 -0.005109  0.009312     0.005585  0.009796  0.009804   \n",
       "75%    0.018156  0.015642  0.077866     0.062455  0.164784  0.146391   \n",
       "max    1.000000  1.000000  1.000000     1.000000  1.000000  1.000000   \n",
       "\n",
       "       HistoryOfBacklogs  PlacedOrNot  \n",
       "count           8.000000     8.000000  \n",
       "mean            0.132782     0.218630  \n",
       "std             0.353149     0.378055  \n",
       "min            -0.042586    -0.038182  \n",
       "25%            -0.016923    -0.010613  \n",
       "50%             0.006320     0.024142  \n",
       "75%             0.045491     0.281662  \n",
       "max             1.000000     1.000000  "
      ]
     },
     "execution_count": 83,
     "metadata": {},
     "output_type": "execute_result"
    }
   ],
   "source": [
    "df.corr().describe()"
   ]
  },
  {
   "cell_type": "code",
   "execution_count": 84,
   "metadata": {},
   "outputs": [
    {
     "data": {
      "text/plain": [
       "Age                  19\n",
       "Gender                0\n",
       "Stream                0\n",
       "Internships           0\n",
       "CGPA                  5\n",
       "Hostel                0\n",
       "HistoryOfBacklogs     0\n",
       "PlacedOrNot           0\n",
       "dtype: int64"
      ]
     },
     "execution_count": 84,
     "metadata": {},
     "output_type": "execute_result"
    }
   ],
   "source": [
    "df.min()"
   ]
  },
  {
   "cell_type": "code",
   "execution_count": 85,
   "metadata": {},
   "outputs": [
    {
     "data": {
      "text/plain": [
       "Age                  21.485840\n",
       "Gender                0.834457\n",
       "Stream                2.562374\n",
       "Internships           0.703641\n",
       "CGPA                  7.073837\n",
       "Hostel                0.269049\n",
       "HistoryOfBacklogs     0.192178\n",
       "PlacedOrNot           0.552596\n",
       "dtype: float64"
      ]
     },
     "execution_count": 85,
     "metadata": {},
     "output_type": "execute_result"
    }
   ],
   "source": [
    "df.mean()"
   ]
  },
  {
   "cell_type": "code",
   "execution_count": 86,
   "metadata": {},
   "outputs": [
    {
     "data": {
      "text/plain": [
       "Age                  30\n",
       "Gender                1\n",
       "Stream                5\n",
       "Internships           3\n",
       "CGPA                  9\n",
       "Hostel                1\n",
       "HistoryOfBacklogs     1\n",
       "PlacedOrNot           1\n",
       "dtype: int64"
      ]
     },
     "execution_count": 86,
     "metadata": {},
     "output_type": "execute_result"
    }
   ],
   "source": [
    "df.max()"
   ]
  },
  {
   "cell_type": "code",
   "execution_count": 87,
   "metadata": {},
   "outputs": [
    {
     "data": {
      "text/plain": [
       "2966"
      ]
     },
     "execution_count": 87,
     "metadata": {},
     "output_type": "execute_result"
    }
   ],
   "source": [
    "len(df)"
   ]
  },
  {
   "cell_type": "code",
   "execution_count": 88,
   "metadata": {},
   "outputs": [
    {
     "data": {
      "text/plain": [
       "Age                 -0.119787\n",
       "Gender              -0.003512\n",
       "HistoryOfBacklogs    0.002576\n",
       "Stream               0.004602\n",
       "Hostel               0.014991\n",
       "Internships          0.023496\n",
       "PlacedOrNot          0.588648\n",
       "CGPA                 1.000000\n",
       "Name: CGPA, dtype: float64"
      ]
     },
     "execution_count": 88,
     "metadata": {},
     "output_type": "execute_result"
    }
   ],
   "source": [
    "df.corr()['CGPA'].sort_values()"
   ]
  },
  {
   "cell_type": "code",
   "execution_count": 89,
   "metadata": {},
   "outputs": [],
   "source": [
    "x=df.drop(['PlacedOrNot'],axis='columns')\n",
    "y=df.PlacedOrNot.values"
   ]
  },
  {
   "cell_type": "code",
   "execution_count": 90,
   "metadata": {},
   "outputs": [],
   "source": [
    "xtrain,xtest,ytrain,ytest=train_test_split(x,y,test_size=0.3,random_state=42)"
   ]
  },
  {
   "cell_type": "code",
   "execution_count": 91,
   "metadata": {},
   "outputs": [],
   "source": [
    "from sklearn.preprocessing import StandardScaler"
   ]
  },
  {
   "cell_type": "code",
   "execution_count": 96,
   "metadata": {},
   "outputs": [],
   "source": [
    "sc = StandardScaler()"
   ]
  },
  {
   "cell_type": "code",
   "execution_count": 103,
   "metadata": {},
   "outputs": [],
   "source": [
    "xtrain=sc.fit_transform(xtrain)\n",
    "xtest=sc.fit_transform(xtest)"
   ]
  },
  {
   "cell_type": "code",
   "execution_count": 104,
   "metadata": {},
   "outputs": [],
   "source": [
    "lo=LogisticRegression()"
   ]
  },
  {
   "cell_type": "code",
   "execution_count": 105,
   "metadata": {},
   "outputs": [
    {
     "data": {
      "text/plain": [
       "73.70786516853933"
      ]
     },
     "execution_count": 105,
     "metadata": {},
     "output_type": "execute_result"
    }
   ],
   "source": [
    "lo.fit(xtrain,ytrain)\n",
    "pred_lo=lo.predict(xtest)\n",
    "accu_lo=accuracy_score(ytest,pred_lo)*100\n",
    "accu_lo"
   ]
  },
  {
   "cell_type": "code",
   "execution_count": 106,
   "metadata": {},
   "outputs": [
    {
     "name": "stdout",
     "output_type": "stream",
     "text": [
      "              precision    recall  f1-score   support\n",
      "\n",
      "           0       0.71      0.70      0.71       398\n",
      "           1       0.76      0.76      0.76       492\n",
      "\n",
      "    accuracy                           0.74       890\n",
      "   macro avg       0.73      0.73      0.73       890\n",
      "weighted avg       0.74      0.74      0.74       890\n",
      "\n"
     ]
    }
   ],
   "source": [
    "print(classification_report(ytest,pred_lo))"
   ]
  },
  {
   "cell_type": "code",
   "execution_count": 107,
   "metadata": {},
   "outputs": [],
   "source": [
    "from sklearn.neighbors import KNeighborsClassifier"
   ]
  },
  {
   "cell_type": "code",
   "execution_count": 108,
   "metadata": {},
   "outputs": [
    {
     "data": {
      "text/plain": [
       "84.49438202247191"
      ]
     },
     "execution_count": 108,
     "metadata": {},
     "output_type": "execute_result"
    }
   ],
   "source": [
    "kne=KNeighborsClassifier()\n",
    "kne.fit(xtrain,ytrain)\n",
    "pred_kne=kne.predict(xtest)\n",
    "accu_kne=accuracy_score(ytest,pred_kne)*100\n",
    "accu_kne"
   ]
  },
  {
   "cell_type": "code",
   "execution_count": 109,
   "metadata": {},
   "outputs": [
    {
     "name": "stdout",
     "output_type": "stream",
     "text": [
      "              precision    recall  f1-score   support\n",
      "\n",
      "           0       0.80      0.87      0.83       398\n",
      "           1       0.89      0.83      0.85       492\n",
      "\n",
      "    accuracy                           0.84       890\n",
      "   macro avg       0.84      0.85      0.84       890\n",
      "weighted avg       0.85      0.84      0.85       890\n",
      "\n"
     ]
    }
   ],
   "source": [
    "print(classification_report(ytest,pred_kne))"
   ]
  },
  {
   "cell_type": "code",
   "execution_count": 110,
   "metadata": {},
   "outputs": [],
   "source": [
    "from sklearn.ensemble import AdaBoostClassifier"
   ]
  },
  {
   "cell_type": "code",
   "execution_count": 111,
   "metadata": {},
   "outputs": [
    {
     "data": {
      "text/plain": [
       "87.52808988764045"
      ]
     },
     "execution_count": 111,
     "metadata": {},
     "output_type": "execute_result"
    }
   ],
   "source": [
    "ada=AdaBoostClassifier()\n",
    "ada.fit(xtrain,ytrain)\n",
    "pred_ada=ada.predict(xtest)\n",
    "accu_ada=accuracy_score(ytest,pred_ada)*100\n",
    "accu_ada"
   ]
  },
  {
   "cell_type": "code",
   "execution_count": 112,
   "metadata": {},
   "outputs": [
    {
     "name": "stdout",
     "output_type": "stream",
     "text": [
      "              precision    recall  f1-score   support\n",
      "\n",
      "           0       0.81      0.95      0.87       398\n",
      "           1       0.95      0.82      0.88       492\n",
      "\n",
      "    accuracy                           0.88       890\n",
      "   macro avg       0.88      0.88      0.88       890\n",
      "weighted avg       0.89      0.88      0.88       890\n",
      "\n"
     ]
    }
   ],
   "source": [
    "print(classification_report(ytest,pred_ada))"
   ]
  },
  {
   "cell_type": "code",
   "execution_count": 113,
   "metadata": {},
   "outputs": [],
   "source": [
    "from sklearn.ensemble import BaggingClassifier"
   ]
  },
  {
   "cell_type": "code",
   "execution_count": 114,
   "metadata": {},
   "outputs": [
    {
     "data": {
      "text/plain": [
       "87.30337078651685"
      ]
     },
     "execution_count": 114,
     "metadata": {},
     "output_type": "execute_result"
    }
   ],
   "source": [
    "bag=BaggingClassifier()\n",
    "bag.fit(xtrain,ytrain)\n",
    "pred_bag=bag.predict(xtest)\n",
    "accu_bag=accuracy_score(ytest,pred_bag)*100\n",
    "accu_bag"
   ]
  },
  {
   "cell_type": "code",
   "execution_count": 115,
   "metadata": {},
   "outputs": [
    {
     "name": "stdout",
     "output_type": "stream",
     "text": [
      "              precision    recall  f1-score   support\n",
      "\n",
      "           0       0.82      0.91      0.86       398\n",
      "           1       0.92      0.84      0.88       492\n",
      "\n",
      "    accuracy                           0.87       890\n",
      "   macro avg       0.87      0.88      0.87       890\n",
      "weighted avg       0.88      0.87      0.87       890\n",
      "\n"
     ]
    }
   ],
   "source": [
    "print(classification_report(ytest,pred_bag))"
   ]
  },
  {
   "cell_type": "code",
   "execution_count": 116,
   "metadata": {},
   "outputs": [],
   "source": [
    "from sklearn.naive_bayes import GaussianNB"
   ]
  },
  {
   "cell_type": "code",
   "execution_count": 117,
   "metadata": {},
   "outputs": [
    {
     "data": {
      "text/plain": [
       "77.30337078651685"
      ]
     },
     "execution_count": 117,
     "metadata": {},
     "output_type": "execute_result"
    }
   ],
   "source": [
    "gau=GaussianNB()\n",
    "gau.fit(xtrain,ytrain)\n",
    "pre_gau=gau.predict(xtest)\n",
    "accu_gau=accuracy_score(ytest,pre_gau)*100\n",
    "accu_gau"
   ]
  },
  {
   "cell_type": "code",
   "execution_count": 118,
   "metadata": {},
   "outputs": [
    {
     "name": "stdout",
     "output_type": "stream",
     "text": [
      "              precision    recall  f1-score   support\n",
      "\n",
      "           0       0.74      0.77      0.75       398\n",
      "           1       0.81      0.78      0.79       492\n",
      "\n",
      "    accuracy                           0.77       890\n",
      "   macro avg       0.77      0.77      0.77       890\n",
      "weighted avg       0.77      0.77      0.77       890\n",
      "\n"
     ]
    }
   ],
   "source": [
    "print(classification_report(ytest,pre_gau))"
   ]
  },
  {
   "cell_type": "code",
   "execution_count": 119,
   "metadata": {},
   "outputs": [],
   "source": [
    "from sklearn.ensemble import ExtraTreesClassifier"
   ]
  },
  {
   "cell_type": "code",
   "execution_count": 120,
   "metadata": {},
   "outputs": [
    {
     "data": {
      "text/plain": [
       "87.41573033707866"
      ]
     },
     "execution_count": 120,
     "metadata": {},
     "output_type": "execute_result"
    }
   ],
   "source": [
    "etc=ExtraTreesClassifier()\n",
    "etc.fit(xtrain,ytrain)\n",
    "pre_etc=etc.predict(xtest)\n",
    "accu_etc=accuracy_score(ytest,pre_etc)*100\n",
    "accu_etc"
   ]
  },
  {
   "cell_type": "code",
   "execution_count": 121,
   "metadata": {},
   "outputs": [
    {
     "name": "stdout",
     "output_type": "stream",
     "text": [
      "              precision    recall  f1-score   support\n",
      "\n",
      "           0       0.83      0.91      0.87       398\n",
      "           1       0.92      0.85      0.88       492\n",
      "\n",
      "    accuracy                           0.87       890\n",
      "   macro avg       0.87      0.88      0.87       890\n",
      "weighted avg       0.88      0.87      0.87       890\n",
      "\n"
     ]
    }
   ],
   "source": [
    "print(classification_report(ytest,pre_etc))"
   ]
  },
  {
   "cell_type": "code",
   "execution_count": 122,
   "metadata": {},
   "outputs": [],
   "source": [
    "from sklearn.svm import SVC"
   ]
  },
  {
   "cell_type": "code",
   "execution_count": 123,
   "metadata": {},
   "outputs": [
    {
     "data": {
      "text/plain": [
       "86.62921348314607"
      ]
     },
     "execution_count": 123,
     "metadata": {},
     "output_type": "execute_result"
    }
   ],
   "source": [
    "svc=SVC()\n",
    "svc.fit(xtrain,ytrain)\n",
    "pre_svc=svc.predict(xtest)\n",
    "accu_svc=accuracy_score(ytest,pre_svc)*100\n",
    "accu_svc"
   ]
  },
  {
   "cell_type": "code",
   "execution_count": 124,
   "metadata": {},
   "outputs": [
    {
     "name": "stdout",
     "output_type": "stream",
     "text": [
      "              precision    recall  f1-score   support\n",
      "\n",
      "           0       0.79      0.95      0.86       398\n",
      "           1       0.96      0.79      0.87       492\n",
      "\n",
      "    accuracy                           0.87       890\n",
      "   macro avg       0.87      0.87      0.87       890\n",
      "weighted avg       0.88      0.87      0.87       890\n",
      "\n"
     ]
    }
   ],
   "source": [
    "print(classification_report(ytest,pre_svc))"
   ]
  },
  {
   "cell_type": "code",
   "execution_count": 125,
   "metadata": {},
   "outputs": [],
   "source": [
    "from sklearn.ensemble import RandomForestClassifier"
   ]
  },
  {
   "cell_type": "code",
   "execution_count": 126,
   "metadata": {},
   "outputs": [
    {
     "data": {
      "text/plain": [
       "86.85393258426967"
      ]
     },
     "execution_count": 126,
     "metadata": {},
     "output_type": "execute_result"
    }
   ],
   "source": [
    "rnd=RandomForestClassifier()\n",
    "rnd.fit(xtrain,ytrain)\n",
    "pre_rnd=rnd.predict(xtest)\n",
    "accu_rnd=accuracy_score(ytest,pre_rnd)*100\n",
    "accu_rnd"
   ]
  },
  {
   "cell_type": "code",
   "execution_count": 127,
   "metadata": {},
   "outputs": [
    {
     "name": "stdout",
     "output_type": "stream",
     "text": [
      "              precision    recall  f1-score   support\n",
      "\n",
      "           0       0.82      0.90      0.86       398\n",
      "           1       0.91      0.84      0.88       492\n",
      "\n",
      "    accuracy                           0.87       890\n",
      "   macro avg       0.87      0.87      0.87       890\n",
      "weighted avg       0.87      0.87      0.87       890\n",
      "\n"
     ]
    }
   ],
   "source": [
    "print(classification_report(ytest,pre_rnd))"
   ]
  },
  {
   "cell_type": "code",
   "execution_count": 135,
   "metadata": {},
   "outputs": [],
   "source": [
    "from catboost import CatBoostRegressor\n"
   ]
  },
  {
   "cell_type": "code",
   "execution_count": 136,
   "metadata": {},
   "outputs": [
    {
     "name": "stdout",
     "output_type": "stream",
     "text": [
      "Learning rate set to 0.04445\n",
      "0:\tlearn: 0.4868403\ttotal: 1.84ms\tremaining: 1.84s\n",
      "1:\tlearn: 0.4758561\ttotal: 4.47ms\tremaining: 2.23s\n",
      "2:\tlearn: 0.4648811\ttotal: 6.87ms\tremaining: 2.28s\n",
      "3:\tlearn: 0.4548843\ttotal: 9.18ms\tremaining: 2.28s\n",
      "4:\tlearn: 0.4451876\ttotal: 12ms\tremaining: 2.39s\n",
      "5:\tlearn: 0.4366978\ttotal: 14.2ms\tremaining: 2.35s\n",
      "6:\tlearn: 0.4281558\ttotal: 16.1ms\tremaining: 2.28s\n",
      "7:\tlearn: 0.4207605\ttotal: 18.4ms\tremaining: 2.28s\n",
      "8:\tlearn: 0.4125172\ttotal: 20.6ms\tremaining: 2.27s\n",
      "9:\tlearn: 0.4057525\ttotal: 22.9ms\tremaining: 2.27s\n",
      "10:\tlearn: 0.3991502\ttotal: 25.5ms\tremaining: 2.29s\n",
      "11:\tlearn: 0.3936431\ttotal: 27.8ms\tremaining: 2.29s\n",
      "12:\tlearn: 0.3875782\ttotal: 30.4ms\tremaining: 2.31s\n",
      "13:\tlearn: 0.3822681\ttotal: 32.7ms\tremaining: 2.3s\n",
      "14:\tlearn: 0.3769377\ttotal: 35.1ms\tremaining: 2.31s\n",
      "15:\tlearn: 0.3721896\ttotal: 37.4ms\tremaining: 2.3s\n",
      "16:\tlearn: 0.3672398\ttotal: 39.9ms\tremaining: 2.31s\n",
      "17:\tlearn: 0.3629839\ttotal: 42.1ms\tremaining: 2.3s\n",
      "18:\tlearn: 0.3589167\ttotal: 44.4ms\tremaining: 2.29s\n",
      "19:\tlearn: 0.3547307\ttotal: 46.6ms\tremaining: 2.29s\n",
      "20:\tlearn: 0.3520709\ttotal: 48.3ms\tremaining: 2.25s\n",
      "21:\tlearn: 0.3483955\ttotal: 50.7ms\tremaining: 2.25s\n",
      "22:\tlearn: 0.3458564\ttotal: 52.9ms\tremaining: 2.25s\n",
      "23:\tlearn: 0.3430572\ttotal: 55.1ms\tremaining: 2.24s\n",
      "24:\tlearn: 0.3405069\ttotal: 57.3ms\tremaining: 2.23s\n",
      "25:\tlearn: 0.3383278\ttotal: 59.5ms\tremaining: 2.23s\n",
      "26:\tlearn: 0.3355914\ttotal: 61.8ms\tremaining: 2.23s\n",
      "27:\tlearn: 0.3331855\ttotal: 64.3ms\tremaining: 2.23s\n",
      "28:\tlearn: 0.3311576\ttotal: 66.8ms\tremaining: 2.23s\n",
      "29:\tlearn: 0.3294256\ttotal: 69ms\tremaining: 2.23s\n",
      "30:\tlearn: 0.3273035\ttotal: 71.2ms\tremaining: 2.23s\n",
      "31:\tlearn: 0.3256442\ttotal: 73.6ms\tremaining: 2.23s\n",
      "32:\tlearn: 0.3239801\ttotal: 76.3ms\tremaining: 2.23s\n",
      "33:\tlearn: 0.3227086\ttotal: 77.9ms\tremaining: 2.21s\n",
      "34:\tlearn: 0.3215246\ttotal: 80.2ms\tremaining: 2.21s\n",
      "35:\tlearn: 0.3200159\ttotal: 82.8ms\tremaining: 2.22s\n",
      "36:\tlearn: 0.3187528\ttotal: 84.9ms\tremaining: 2.21s\n",
      "37:\tlearn: 0.3175784\ttotal: 87.1ms\tremaining: 2.21s\n",
      "38:\tlearn: 0.3168262\ttotal: 89.4ms\tremaining: 2.2s\n",
      "39:\tlearn: 0.3158733\ttotal: 91.7ms\tremaining: 2.2s\n",
      "40:\tlearn: 0.3145329\ttotal: 94ms\tremaining: 2.2s\n",
      "41:\tlearn: 0.3139215\ttotal: 95.8ms\tremaining: 2.19s\n",
      "42:\tlearn: 0.3132761\ttotal: 97.9ms\tremaining: 2.18s\n",
      "43:\tlearn: 0.3124466\ttotal: 100ms\tremaining: 2.17s\n",
      "44:\tlearn: 0.3114116\ttotal: 103ms\tremaining: 2.18s\n",
      "45:\tlearn: 0.3104777\ttotal: 105ms\tremaining: 2.17s\n",
      "46:\tlearn: 0.3098814\ttotal: 107ms\tremaining: 2.17s\n",
      "47:\tlearn: 0.3093109\ttotal: 109ms\tremaining: 2.17s\n",
      "48:\tlearn: 0.3085499\ttotal: 112ms\tremaining: 2.17s\n",
      "49:\tlearn: 0.3081715\ttotal: 114ms\tremaining: 2.17s\n",
      "50:\tlearn: 0.3074643\ttotal: 116ms\tremaining: 2.16s\n",
      "51:\tlearn: 0.3069403\ttotal: 118ms\tremaining: 2.16s\n",
      "52:\tlearn: 0.3063785\ttotal: 121ms\tremaining: 2.16s\n",
      "53:\tlearn: 0.3060529\ttotal: 123ms\tremaining: 2.16s\n",
      "54:\tlearn: 0.3053553\ttotal: 126ms\tremaining: 2.16s\n",
      "55:\tlearn: 0.3045013\ttotal: 128ms\tremaining: 2.16s\n",
      "56:\tlearn: 0.3040374\ttotal: 131ms\tremaining: 2.16s\n",
      "57:\tlearn: 0.3033376\ttotal: 133ms\tremaining: 2.16s\n",
      "58:\tlearn: 0.3030066\ttotal: 135ms\tremaining: 2.16s\n",
      "59:\tlearn: 0.3024960\ttotal: 138ms\tremaining: 2.16s\n",
      "60:\tlearn: 0.3020950\ttotal: 140ms\tremaining: 2.15s\n",
      "61:\tlearn: 0.3016182\ttotal: 142ms\tremaining: 2.15s\n",
      "62:\tlearn: 0.3013480\ttotal: 144ms\tremaining: 2.14s\n",
      "63:\tlearn: 0.3010598\ttotal: 147ms\tremaining: 2.15s\n",
      "64:\tlearn: 0.3007793\ttotal: 149ms\tremaining: 2.14s\n",
      "65:\tlearn: 0.3002777\ttotal: 151ms\tremaining: 2.13s\n",
      "66:\tlearn: 0.2997629\ttotal: 153ms\tremaining: 2.13s\n",
      "67:\tlearn: 0.2993670\ttotal: 154ms\tremaining: 2.12s\n",
      "68:\tlearn: 0.2991551\ttotal: 156ms\tremaining: 2.1s\n",
      "69:\tlearn: 0.2990871\ttotal: 157ms\tremaining: 2.09s\n",
      "70:\tlearn: 0.2987424\ttotal: 159ms\tremaining: 2.08s\n",
      "71:\tlearn: 0.2984695\ttotal: 160ms\tremaining: 2.07s\n",
      "72:\tlearn: 0.2980653\ttotal: 162ms\tremaining: 2.06s\n",
      "73:\tlearn: 0.2976012\ttotal: 163ms\tremaining: 2.04s\n",
      "74:\tlearn: 0.2974183\ttotal: 165ms\tremaining: 2.03s\n",
      "75:\tlearn: 0.2970904\ttotal: 166ms\tremaining: 2.02s\n",
      "76:\tlearn: 0.2969887\ttotal: 168ms\tremaining: 2.01s\n",
      "77:\tlearn: 0.2968629\ttotal: 169ms\tremaining: 2s\n",
      "78:\tlearn: 0.2963380\ttotal: 172ms\tremaining: 2s\n",
      "79:\tlearn: 0.2962136\ttotal: 174ms\tremaining: 2s\n",
      "80:\tlearn: 0.2958440\ttotal: 176ms\tremaining: 2s\n",
      "81:\tlearn: 0.2955976\ttotal: 178ms\tremaining: 2s\n",
      "82:\tlearn: 0.2953632\ttotal: 181ms\tremaining: 2s\n",
      "83:\tlearn: 0.2952317\ttotal: 183ms\tremaining: 2s\n",
      "84:\tlearn: 0.2949915\ttotal: 185ms\tremaining: 2s\n",
      "85:\tlearn: 0.2944742\ttotal: 188ms\tremaining: 1.99s\n",
      "86:\tlearn: 0.2937959\ttotal: 190ms\tremaining: 2s\n",
      "87:\tlearn: 0.2933480\ttotal: 192ms\tremaining: 1.99s\n",
      "88:\tlearn: 0.2930726\ttotal: 195ms\tremaining: 1.99s\n",
      "89:\tlearn: 0.2928514\ttotal: 197ms\tremaining: 1.99s\n",
      "90:\tlearn: 0.2922667\ttotal: 199ms\tremaining: 1.99s\n",
      "91:\tlearn: 0.2921255\ttotal: 202ms\tremaining: 1.99s\n",
      "92:\tlearn: 0.2914806\ttotal: 204ms\tremaining: 1.99s\n",
      "93:\tlearn: 0.2914161\ttotal: 206ms\tremaining: 1.98s\n",
      "94:\tlearn: 0.2909833\ttotal: 208ms\tremaining: 1.98s\n",
      "95:\tlearn: 0.2907098\ttotal: 211ms\tremaining: 1.98s\n",
      "96:\tlearn: 0.2906182\ttotal: 213ms\tremaining: 1.98s\n",
      "97:\tlearn: 0.2904037\ttotal: 215ms\tremaining: 1.98s\n",
      "98:\tlearn: 0.2902092\ttotal: 217ms\tremaining: 1.98s\n",
      "99:\tlearn: 0.2896274\ttotal: 219ms\tremaining: 1.97s\n",
      "100:\tlearn: 0.2894664\ttotal: 222ms\tremaining: 1.97s\n",
      "101:\tlearn: 0.2893276\ttotal: 224ms\tremaining: 1.97s\n",
      "102:\tlearn: 0.2890197\ttotal: 226ms\tremaining: 1.97s\n",
      "103:\tlearn: 0.2889230\ttotal: 229ms\tremaining: 1.97s\n",
      "104:\tlearn: 0.2888265\ttotal: 231ms\tremaining: 1.97s\n",
      "105:\tlearn: 0.2887533\ttotal: 233ms\tremaining: 1.97s\n",
      "106:\tlearn: 0.2884916\ttotal: 236ms\tremaining: 1.97s\n",
      "107:\tlearn: 0.2881674\ttotal: 238ms\tremaining: 1.97s\n",
      "108:\tlearn: 0.2880335\ttotal: 240ms\tremaining: 1.96s\n",
      "109:\tlearn: 0.2877207\ttotal: 243ms\tremaining: 1.96s\n",
      "110:\tlearn: 0.2873482\ttotal: 245ms\tremaining: 1.96s\n",
      "111:\tlearn: 0.2871608\ttotal: 247ms\tremaining: 1.96s\n",
      "112:\tlearn: 0.2869804\ttotal: 249ms\tremaining: 1.96s\n",
      "113:\tlearn: 0.2868124\ttotal: 252ms\tremaining: 1.96s\n",
      "114:\tlearn: 0.2864723\ttotal: 253ms\tremaining: 1.95s\n",
      "115:\tlearn: 0.2863290\ttotal: 255ms\tremaining: 1.94s\n",
      "116:\tlearn: 0.2862300\ttotal: 256ms\tremaining: 1.94s\n",
      "117:\tlearn: 0.2861447\ttotal: 258ms\tremaining: 1.93s\n",
      "118:\tlearn: 0.2860505\ttotal: 260ms\tremaining: 1.92s\n",
      "119:\tlearn: 0.2858934\ttotal: 261ms\tremaining: 1.91s\n",
      "120:\tlearn: 0.2857894\ttotal: 262ms\tremaining: 1.91s\n",
      "121:\tlearn: 0.2856791\ttotal: 264ms\tremaining: 1.9s\n",
      "122:\tlearn: 0.2854562\ttotal: 265ms\tremaining: 1.89s\n",
      "123:\tlearn: 0.2853695\ttotal: 267ms\tremaining: 1.89s\n",
      "124:\tlearn: 0.2852254\ttotal: 268ms\tremaining: 1.88s\n",
      "125:\tlearn: 0.2851912\ttotal: 270ms\tremaining: 1.87s\n",
      "126:\tlearn: 0.2847385\ttotal: 271ms\tremaining: 1.86s\n",
      "127:\tlearn: 0.2846120\ttotal: 273ms\tremaining: 1.86s\n",
      "128:\tlearn: 0.2845344\ttotal: 274ms\tremaining: 1.85s\n",
      "129:\tlearn: 0.2842942\ttotal: 276ms\tremaining: 1.85s\n",
      "130:\tlearn: 0.2841662\ttotal: 278ms\tremaining: 1.84s\n",
      "131:\tlearn: 0.2841057\ttotal: 279ms\tremaining: 1.83s\n",
      "132:\tlearn: 0.2836824\ttotal: 281ms\tremaining: 1.83s\n",
      "133:\tlearn: 0.2835682\ttotal: 282ms\tremaining: 1.82s\n",
      "134:\tlearn: 0.2833154\ttotal: 284ms\tremaining: 1.82s\n",
      "135:\tlearn: 0.2832053\ttotal: 285ms\tremaining: 1.81s\n",
      "136:\tlearn: 0.2831232\ttotal: 287ms\tremaining: 1.81s\n",
      "137:\tlearn: 0.2830074\ttotal: 289ms\tremaining: 1.8s\n",
      "138:\tlearn: 0.2829544\ttotal: 290ms\tremaining: 1.79s\n",
      "139:\tlearn: 0.2828911\ttotal: 291ms\tremaining: 1.79s\n",
      "140:\tlearn: 0.2827880\ttotal: 293ms\tremaining: 1.78s\n",
      "141:\tlearn: 0.2826655\ttotal: 294ms\tremaining: 1.78s\n",
      "142:\tlearn: 0.2822987\ttotal: 296ms\tremaining: 1.77s\n",
      "143:\tlearn: 0.2820465\ttotal: 298ms\tremaining: 1.77s\n",
      "144:\tlearn: 0.2817585\ttotal: 299ms\tremaining: 1.76s\n",
      "145:\tlearn: 0.2816651\ttotal: 301ms\tremaining: 1.76s\n",
      "146:\tlearn: 0.2815942\ttotal: 302ms\tremaining: 1.75s\n",
      "147:\tlearn: 0.2814681\ttotal: 304ms\tremaining: 1.75s\n",
      "148:\tlearn: 0.2813438\ttotal: 305ms\tremaining: 1.74s\n",
      "149:\tlearn: 0.2811802\ttotal: 307ms\tremaining: 1.74s\n",
      "150:\tlearn: 0.2810700\ttotal: 308ms\tremaining: 1.73s\n",
      "151:\tlearn: 0.2809661\ttotal: 310ms\tremaining: 1.73s\n",
      "152:\tlearn: 0.2809013\ttotal: 312ms\tremaining: 1.72s\n",
      "153:\tlearn: 0.2808017\ttotal: 313ms\tremaining: 1.72s\n",
      "154:\tlearn: 0.2807466\ttotal: 315ms\tremaining: 1.72s\n",
      "155:\tlearn: 0.2806567\ttotal: 317ms\tremaining: 1.71s\n",
      "156:\tlearn: 0.2804789\ttotal: 319ms\tremaining: 1.71s\n",
      "157:\tlearn: 0.2804449\ttotal: 321ms\tremaining: 1.71s\n",
      "158:\tlearn: 0.2803634\ttotal: 322ms\tremaining: 1.7s\n",
      "159:\tlearn: 0.2802932\ttotal: 324ms\tremaining: 1.7s\n",
      "160:\tlearn: 0.2802076\ttotal: 326ms\tremaining: 1.7s\n",
      "161:\tlearn: 0.2800929\ttotal: 327ms\tremaining: 1.69s\n",
      "162:\tlearn: 0.2799935\ttotal: 329ms\tremaining: 1.69s\n",
      "163:\tlearn: 0.2797927\ttotal: 330ms\tremaining: 1.68s\n",
      "164:\tlearn: 0.2796696\ttotal: 332ms\tremaining: 1.68s\n",
      "165:\tlearn: 0.2794933\ttotal: 333ms\tremaining: 1.68s\n",
      "166:\tlearn: 0.2793139\ttotal: 335ms\tremaining: 1.67s\n",
      "167:\tlearn: 0.2792398\ttotal: 337ms\tremaining: 1.67s\n",
      "168:\tlearn: 0.2791155\ttotal: 340ms\tremaining: 1.67s\n",
      "169:\tlearn: 0.2789489\ttotal: 342ms\tremaining: 1.67s\n",
      "170:\tlearn: 0.2786867\ttotal: 343ms\tremaining: 1.66s\n",
      "171:\tlearn: 0.2784286\ttotal: 345ms\tremaining: 1.66s\n",
      "172:\tlearn: 0.2782406\ttotal: 346ms\tremaining: 1.66s\n",
      "173:\tlearn: 0.2780839\ttotal: 348ms\tremaining: 1.65s\n",
      "174:\tlearn: 0.2780252\ttotal: 350ms\tremaining: 1.65s\n",
      "175:\tlearn: 0.2779602\ttotal: 351ms\tremaining: 1.64s\n",
      "176:\tlearn: 0.2778101\ttotal: 353ms\tremaining: 1.64s\n",
      "177:\tlearn: 0.2777413\ttotal: 355ms\tremaining: 1.64s\n",
      "178:\tlearn: 0.2776702\ttotal: 357ms\tremaining: 1.64s\n",
      "179:\tlearn: 0.2775622\ttotal: 358ms\tremaining: 1.63s\n",
      "180:\tlearn: 0.2775009\ttotal: 360ms\tremaining: 1.63s\n",
      "181:\tlearn: 0.2774426\ttotal: 361ms\tremaining: 1.62s\n",
      "182:\tlearn: 0.2773502\ttotal: 364ms\tremaining: 1.62s\n",
      "183:\tlearn: 0.2772440\ttotal: 366ms\tremaining: 1.62s\n",
      "184:\tlearn: 0.2771578\ttotal: 369ms\tremaining: 1.62s\n",
      "185:\tlearn: 0.2770080\ttotal: 371ms\tremaining: 1.62s\n",
      "186:\tlearn: 0.2769288\ttotal: 373ms\tremaining: 1.62s\n",
      "187:\tlearn: 0.2768388\ttotal: 375ms\tremaining: 1.62s\n",
      "188:\tlearn: 0.2767531\ttotal: 377ms\tremaining: 1.62s\n",
      "189:\tlearn: 0.2764858\ttotal: 380ms\tremaining: 1.62s\n",
      "190:\tlearn: 0.2763389\ttotal: 382ms\tremaining: 1.62s\n",
      "191:\tlearn: 0.2763034\ttotal: 385ms\tremaining: 1.62s\n",
      "192:\tlearn: 0.2760142\ttotal: 387ms\tremaining: 1.62s\n",
      "193:\tlearn: 0.2759640\ttotal: 390ms\tremaining: 1.62s\n",
      "194:\tlearn: 0.2759028\ttotal: 392ms\tremaining: 1.62s\n",
      "195:\tlearn: 0.2757631\ttotal: 395ms\tremaining: 1.62s\n",
      "196:\tlearn: 0.2757081\ttotal: 397ms\tremaining: 1.62s\n",
      "197:\tlearn: 0.2755990\ttotal: 400ms\tremaining: 1.62s\n",
      "198:\tlearn: 0.2754698\ttotal: 402ms\tremaining: 1.62s\n",
      "199:\tlearn: 0.2753825\ttotal: 405ms\tremaining: 1.62s\n",
      "200:\tlearn: 0.2752964\ttotal: 407ms\tremaining: 1.62s\n",
      "201:\tlearn: 0.2752299\ttotal: 409ms\tremaining: 1.62s\n",
      "202:\tlearn: 0.2751685\ttotal: 411ms\tremaining: 1.61s\n",
      "203:\tlearn: 0.2751156\ttotal: 414ms\tremaining: 1.61s\n",
      "204:\tlearn: 0.2749945\ttotal: 416ms\tremaining: 1.61s\n",
      "205:\tlearn: 0.2749208\ttotal: 418ms\tremaining: 1.61s\n",
      "206:\tlearn: 0.2748469\ttotal: 421ms\tremaining: 1.61s\n",
      "207:\tlearn: 0.2747779\ttotal: 423ms\tremaining: 1.61s\n",
      "208:\tlearn: 0.2746772\ttotal: 425ms\tremaining: 1.61s\n",
      "209:\tlearn: 0.2746242\ttotal: 427ms\tremaining: 1.61s\n",
      "210:\tlearn: 0.2744009\ttotal: 430ms\tremaining: 1.61s\n",
      "211:\tlearn: 0.2742895\ttotal: 432ms\tremaining: 1.61s\n",
      "212:\tlearn: 0.2742080\ttotal: 434ms\tremaining: 1.6s\n",
      "213:\tlearn: 0.2741454\ttotal: 437ms\tremaining: 1.6s\n",
      "214:\tlearn: 0.2739913\ttotal: 439ms\tremaining: 1.6s\n",
      "215:\tlearn: 0.2736306\ttotal: 441ms\tremaining: 1.6s\n",
      "216:\tlearn: 0.2735505\ttotal: 444ms\tremaining: 1.6s\n",
      "217:\tlearn: 0.2734727\ttotal: 446ms\tremaining: 1.6s\n"
     ]
    },
    {
     "name": "stdout",
     "output_type": "stream",
     "text": [
      "218:\tlearn: 0.2733196\ttotal: 448ms\tremaining: 1.6s\n",
      "219:\tlearn: 0.2731977\ttotal: 451ms\tremaining: 1.6s\n",
      "220:\tlearn: 0.2730847\ttotal: 453ms\tremaining: 1.59s\n",
      "221:\tlearn: 0.2730107\ttotal: 454ms\tremaining: 1.59s\n",
      "222:\tlearn: 0.2729115\ttotal: 456ms\tremaining: 1.59s\n",
      "223:\tlearn: 0.2728438\ttotal: 460ms\tremaining: 1.59s\n",
      "224:\tlearn: 0.2727364\ttotal: 462ms\tremaining: 1.59s\n",
      "225:\tlearn: 0.2726332\ttotal: 463ms\tremaining: 1.59s\n",
      "226:\tlearn: 0.2725663\ttotal: 465ms\tremaining: 1.58s\n",
      "227:\tlearn: 0.2724953\ttotal: 466ms\tremaining: 1.58s\n",
      "228:\tlearn: 0.2723864\ttotal: 468ms\tremaining: 1.57s\n",
      "229:\tlearn: 0.2722888\ttotal: 469ms\tremaining: 1.57s\n",
      "230:\tlearn: 0.2722221\ttotal: 471ms\tremaining: 1.57s\n",
      "231:\tlearn: 0.2721246\ttotal: 473ms\tremaining: 1.56s\n",
      "232:\tlearn: 0.2719936\ttotal: 474ms\tremaining: 1.56s\n",
      "233:\tlearn: 0.2719003\ttotal: 477ms\tremaining: 1.56s\n",
      "234:\tlearn: 0.2718664\ttotal: 479ms\tremaining: 1.56s\n",
      "235:\tlearn: 0.2717761\ttotal: 481ms\tremaining: 1.56s\n",
      "236:\tlearn: 0.2717101\ttotal: 483ms\tremaining: 1.55s\n",
      "237:\tlearn: 0.2716428\ttotal: 486ms\tremaining: 1.55s\n",
      "238:\tlearn: 0.2715304\ttotal: 488ms\tremaining: 1.55s\n",
      "239:\tlearn: 0.2714523\ttotal: 490ms\tremaining: 1.55s\n",
      "240:\tlearn: 0.2713904\ttotal: 493ms\tremaining: 1.55s\n",
      "241:\tlearn: 0.2713147\ttotal: 495ms\tremaining: 1.55s\n",
      "242:\tlearn: 0.2712393\ttotal: 497ms\tremaining: 1.55s\n",
      "243:\tlearn: 0.2711572\ttotal: 499ms\tremaining: 1.55s\n",
      "244:\tlearn: 0.2710844\ttotal: 501ms\tremaining: 1.54s\n",
      "245:\tlearn: 0.2710231\ttotal: 504ms\tremaining: 1.54s\n",
      "246:\tlearn: 0.2709223\ttotal: 506ms\tremaining: 1.54s\n",
      "247:\tlearn: 0.2708364\ttotal: 509ms\tremaining: 1.54s\n",
      "248:\tlearn: 0.2707681\ttotal: 511ms\tremaining: 1.54s\n",
      "249:\tlearn: 0.2706945\ttotal: 513ms\tremaining: 1.54s\n",
      "250:\tlearn: 0.2706121\ttotal: 515ms\tremaining: 1.54s\n",
      "251:\tlearn: 0.2705406\ttotal: 518ms\tremaining: 1.54s\n",
      "252:\tlearn: 0.2704720\ttotal: 520ms\tremaining: 1.53s\n",
      "253:\tlearn: 0.2703983\ttotal: 522ms\tremaining: 1.53s\n",
      "254:\tlearn: 0.2703360\ttotal: 525ms\tremaining: 1.53s\n",
      "255:\tlearn: 0.2702692\ttotal: 527ms\tremaining: 1.53s\n",
      "256:\tlearn: 0.2702322\ttotal: 528ms\tremaining: 1.53s\n",
      "257:\tlearn: 0.2701770\ttotal: 529ms\tremaining: 1.52s\n",
      "258:\tlearn: 0.2701465\ttotal: 531ms\tremaining: 1.52s\n",
      "259:\tlearn: 0.2700587\ttotal: 532ms\tremaining: 1.51s\n",
      "260:\tlearn: 0.2699854\ttotal: 534ms\tremaining: 1.51s\n",
      "261:\tlearn: 0.2699164\ttotal: 536ms\tremaining: 1.51s\n",
      "262:\tlearn: 0.2698490\ttotal: 538ms\tremaining: 1.51s\n",
      "263:\tlearn: 0.2697758\ttotal: 541ms\tremaining: 1.51s\n",
      "264:\tlearn: 0.2697397\ttotal: 543ms\tremaining: 1.5s\n",
      "265:\tlearn: 0.2696773\ttotal: 545ms\tremaining: 1.5s\n",
      "266:\tlearn: 0.2695876\ttotal: 548ms\tremaining: 1.5s\n",
      "267:\tlearn: 0.2695261\ttotal: 550ms\tremaining: 1.5s\n",
      "268:\tlearn: 0.2694552\ttotal: 552ms\tremaining: 1.5s\n",
      "269:\tlearn: 0.2693918\ttotal: 554ms\tremaining: 1.5s\n",
      "270:\tlearn: 0.2693239\ttotal: 557ms\tremaining: 1.5s\n",
      "271:\tlearn: 0.2692418\ttotal: 559ms\tremaining: 1.5s\n",
      "272:\tlearn: 0.2691641\ttotal: 561ms\tremaining: 1.49s\n",
      "273:\tlearn: 0.2691095\ttotal: 563ms\tremaining: 1.49s\n",
      "274:\tlearn: 0.2690775\ttotal: 566ms\tremaining: 1.49s\n",
      "275:\tlearn: 0.2690138\ttotal: 568ms\tremaining: 1.49s\n",
      "276:\tlearn: 0.2689558\ttotal: 570ms\tremaining: 1.49s\n",
      "277:\tlearn: 0.2689030\ttotal: 572ms\tremaining: 1.49s\n",
      "278:\tlearn: 0.2688487\ttotal: 575ms\tremaining: 1.48s\n",
      "279:\tlearn: 0.2688055\ttotal: 577ms\tremaining: 1.48s\n",
      "280:\tlearn: 0.2687423\ttotal: 579ms\tremaining: 1.48s\n",
      "281:\tlearn: 0.2686813\ttotal: 582ms\tremaining: 1.48s\n",
      "282:\tlearn: 0.2686225\ttotal: 584ms\tremaining: 1.48s\n",
      "283:\tlearn: 0.2685609\ttotal: 586ms\tremaining: 1.48s\n",
      "284:\tlearn: 0.2685041\ttotal: 589ms\tremaining: 1.48s\n",
      "285:\tlearn: 0.2684561\ttotal: 591ms\tremaining: 1.48s\n",
      "286:\tlearn: 0.2684058\ttotal: 593ms\tremaining: 1.47s\n",
      "287:\tlearn: 0.2683339\ttotal: 595ms\tremaining: 1.47s\n",
      "288:\tlearn: 0.2682644\ttotal: 598ms\tremaining: 1.47s\n",
      "289:\tlearn: 0.2682087\ttotal: 600ms\tremaining: 1.47s\n",
      "290:\tlearn: 0.2681552\ttotal: 602ms\tremaining: 1.47s\n",
      "291:\tlearn: 0.2680988\ttotal: 604ms\tremaining: 1.46s\n",
      "292:\tlearn: 0.2680530\ttotal: 606ms\tremaining: 1.46s\n",
      "293:\tlearn: 0.2680053\ttotal: 608ms\tremaining: 1.46s\n",
      "294:\tlearn: 0.2679398\ttotal: 609ms\tremaining: 1.46s\n",
      "295:\tlearn: 0.2678320\ttotal: 611ms\tremaining: 1.45s\n",
      "296:\tlearn: 0.2677765\ttotal: 613ms\tremaining: 1.45s\n",
      "297:\tlearn: 0.2677187\ttotal: 615ms\tremaining: 1.45s\n",
      "298:\tlearn: 0.2676635\ttotal: 617ms\tremaining: 1.45s\n",
      "299:\tlearn: 0.2675927\ttotal: 619ms\tremaining: 1.45s\n",
      "300:\tlearn: 0.2674927\ttotal: 622ms\tremaining: 1.44s\n",
      "301:\tlearn: 0.2674394\ttotal: 624ms\tremaining: 1.44s\n",
      "302:\tlearn: 0.2673833\ttotal: 627ms\tremaining: 1.44s\n",
      "303:\tlearn: 0.2673165\ttotal: 629ms\tremaining: 1.44s\n",
      "304:\tlearn: 0.2672772\ttotal: 631ms\tremaining: 1.44s\n",
      "305:\tlearn: 0.2671934\ttotal: 634ms\tremaining: 1.44s\n",
      "306:\tlearn: 0.2671006\ttotal: 636ms\tremaining: 1.44s\n",
      "307:\tlearn: 0.2670149\ttotal: 638ms\tremaining: 1.43s\n",
      "308:\tlearn: 0.2669869\ttotal: 641ms\tremaining: 1.43s\n",
      "309:\tlearn: 0.2669062\ttotal: 643ms\tremaining: 1.43s\n",
      "310:\tlearn: 0.2668089\ttotal: 645ms\tremaining: 1.43s\n",
      "311:\tlearn: 0.2667587\ttotal: 648ms\tremaining: 1.43s\n",
      "312:\tlearn: 0.2667075\ttotal: 650ms\tremaining: 1.43s\n",
      "313:\tlearn: 0.2666746\ttotal: 652ms\tremaining: 1.42s\n",
      "314:\tlearn: 0.2666267\ttotal: 654ms\tremaining: 1.42s\n",
      "315:\tlearn: 0.2665776\ttotal: 657ms\tremaining: 1.42s\n",
      "316:\tlearn: 0.2665396\ttotal: 659ms\tremaining: 1.42s\n",
      "317:\tlearn: 0.2665220\ttotal: 661ms\tremaining: 1.42s\n",
      "318:\tlearn: 0.2664860\ttotal: 664ms\tremaining: 1.42s\n",
      "319:\tlearn: 0.2664119\ttotal: 666ms\tremaining: 1.42s\n",
      "320:\tlearn: 0.2663273\ttotal: 669ms\tremaining: 1.41s\n",
      "321:\tlearn: 0.2662677\ttotal: 671ms\tremaining: 1.41s\n",
      "322:\tlearn: 0.2662235\ttotal: 673ms\tremaining: 1.41s\n",
      "323:\tlearn: 0.2661758\ttotal: 676ms\tremaining: 1.41s\n",
      "324:\tlearn: 0.2660745\ttotal: 678ms\tremaining: 1.41s\n",
      "325:\tlearn: 0.2660271\ttotal: 680ms\tremaining: 1.41s\n",
      "326:\tlearn: 0.2659762\ttotal: 683ms\tremaining: 1.4s\n",
      "327:\tlearn: 0.2659057\ttotal: 685ms\tremaining: 1.4s\n",
      "328:\tlearn: 0.2658134\ttotal: 687ms\tremaining: 1.4s\n",
      "329:\tlearn: 0.2657794\ttotal: 690ms\tremaining: 1.4s\n",
      "330:\tlearn: 0.2657454\ttotal: 692ms\tremaining: 1.4s\n",
      "331:\tlearn: 0.2657004\ttotal: 694ms\tremaining: 1.4s\n",
      "332:\tlearn: 0.2656681\ttotal: 696ms\tremaining: 1.39s\n",
      "333:\tlearn: 0.2656129\ttotal: 699ms\tremaining: 1.39s\n",
      "334:\tlearn: 0.2653671\ttotal: 701ms\tremaining: 1.39s\n",
      "335:\tlearn: 0.2653350\ttotal: 703ms\tremaining: 1.39s\n",
      "336:\tlearn: 0.2652828\ttotal: 706ms\tremaining: 1.39s\n",
      "337:\tlearn: 0.2652147\ttotal: 708ms\tremaining: 1.39s\n",
      "338:\tlearn: 0.2651298\ttotal: 710ms\tremaining: 1.39s\n",
      "339:\tlearn: 0.2650637\ttotal: 713ms\tremaining: 1.38s\n",
      "340:\tlearn: 0.2648373\ttotal: 715ms\tremaining: 1.38s\n",
      "341:\tlearn: 0.2647603\ttotal: 717ms\tremaining: 1.38s\n",
      "342:\tlearn: 0.2646818\ttotal: 719ms\tremaining: 1.38s\n",
      "343:\tlearn: 0.2646333\ttotal: 722ms\tremaining: 1.38s\n",
      "344:\tlearn: 0.2645699\ttotal: 724ms\tremaining: 1.37s\n",
      "345:\tlearn: 0.2645222\ttotal: 726ms\tremaining: 1.37s\n",
      "346:\tlearn: 0.2644812\ttotal: 728ms\tremaining: 1.37s\n",
      "347:\tlearn: 0.2642743\ttotal: 731ms\tremaining: 1.37s\n",
      "348:\tlearn: 0.2642222\ttotal: 733ms\tremaining: 1.37s\n",
      "349:\tlearn: 0.2641632\ttotal: 736ms\tremaining: 1.37s\n",
      "350:\tlearn: 0.2641340\ttotal: 738ms\tremaining: 1.36s\n",
      "351:\tlearn: 0.2640994\ttotal: 740ms\tremaining: 1.36s\n",
      "352:\tlearn: 0.2640304\ttotal: 743ms\tremaining: 1.36s\n",
      "353:\tlearn: 0.2639751\ttotal: 745ms\tremaining: 1.36s\n",
      "354:\tlearn: 0.2639373\ttotal: 747ms\tremaining: 1.36s\n",
      "355:\tlearn: 0.2638829\ttotal: 750ms\tremaining: 1.35s\n",
      "356:\tlearn: 0.2638006\ttotal: 752ms\tremaining: 1.35s\n",
      "357:\tlearn: 0.2637590\ttotal: 754ms\tremaining: 1.35s\n",
      "358:\tlearn: 0.2637292\ttotal: 757ms\tremaining: 1.35s\n",
      "359:\tlearn: 0.2637025\ttotal: 760ms\tremaining: 1.35s\n",
      "360:\tlearn: 0.2636507\ttotal: 761ms\tremaining: 1.35s\n",
      "361:\tlearn: 0.2635863\ttotal: 763ms\tremaining: 1.34s\n",
      "362:\tlearn: 0.2635170\ttotal: 765ms\tremaining: 1.34s\n",
      "363:\tlearn: 0.2634575\ttotal: 767ms\tremaining: 1.34s\n",
      "364:\tlearn: 0.2634217\ttotal: 768ms\tremaining: 1.34s\n",
      "365:\tlearn: 0.2633926\ttotal: 770ms\tremaining: 1.33s\n",
      "366:\tlearn: 0.2633296\ttotal: 772ms\tremaining: 1.33s\n",
      "367:\tlearn: 0.2632799\ttotal: 773ms\tremaining: 1.33s\n",
      "368:\tlearn: 0.2630933\ttotal: 775ms\tremaining: 1.32s\n",
      "369:\tlearn: 0.2630343\ttotal: 777ms\tremaining: 1.32s\n",
      "370:\tlearn: 0.2629870\ttotal: 779ms\tremaining: 1.32s\n",
      "371:\tlearn: 0.2629519\ttotal: 781ms\tremaining: 1.32s\n",
      "372:\tlearn: 0.2629031\ttotal: 783ms\tremaining: 1.32s\n",
      "373:\tlearn: 0.2628518\ttotal: 786ms\tremaining: 1.31s\n",
      "374:\tlearn: 0.2628277\ttotal: 788ms\tremaining: 1.31s\n",
      "375:\tlearn: 0.2627834\ttotal: 790ms\tremaining: 1.31s\n",
      "376:\tlearn: 0.2627346\ttotal: 792ms\tremaining: 1.31s\n",
      "377:\tlearn: 0.2626908\ttotal: 794ms\tremaining: 1.31s\n",
      "378:\tlearn: 0.2626277\ttotal: 797ms\tremaining: 1.3s\n",
      "379:\tlearn: 0.2624568\ttotal: 799ms\tremaining: 1.3s\n",
      "380:\tlearn: 0.2624118\ttotal: 802ms\tremaining: 1.3s\n",
      "381:\tlearn: 0.2623542\ttotal: 804ms\tremaining: 1.3s\n",
      "382:\tlearn: 0.2623011\ttotal: 806ms\tremaining: 1.3s\n",
      "383:\tlearn: 0.2622613\ttotal: 808ms\tremaining: 1.3s\n",
      "384:\tlearn: 0.2622208\ttotal: 811ms\tremaining: 1.29s\n",
      "385:\tlearn: 0.2621760\ttotal: 813ms\tremaining: 1.29s\n",
      "386:\tlearn: 0.2621158\ttotal: 815ms\tremaining: 1.29s\n",
      "387:\tlearn: 0.2620904\ttotal: 818ms\tremaining: 1.29s\n",
      "388:\tlearn: 0.2619344\ttotal: 820ms\tremaining: 1.29s\n",
      "389:\tlearn: 0.2619068\ttotal: 822ms\tremaining: 1.29s\n",
      "390:\tlearn: 0.2618394\ttotal: 825ms\tremaining: 1.28s\n",
      "391:\tlearn: 0.2617883\ttotal: 827ms\tremaining: 1.28s\n",
      "392:\tlearn: 0.2617610\ttotal: 829ms\tremaining: 1.28s\n",
      "393:\tlearn: 0.2616369\ttotal: 832ms\tremaining: 1.28s\n",
      "394:\tlearn: 0.2615615\ttotal: 834ms\tremaining: 1.28s\n",
      "395:\tlearn: 0.2615134\ttotal: 836ms\tremaining: 1.27s\n",
      "396:\tlearn: 0.2614663\ttotal: 839ms\tremaining: 1.27s\n",
      "397:\tlearn: 0.2614002\ttotal: 841ms\tremaining: 1.27s\n",
      "398:\tlearn: 0.2613592\ttotal: 843ms\tremaining: 1.27s\n",
      "399:\tlearn: 0.2613177\ttotal: 845ms\tremaining: 1.27s\n",
      "400:\tlearn: 0.2612945\ttotal: 848ms\tremaining: 1.27s\n",
      "401:\tlearn: 0.2612248\ttotal: 850ms\tremaining: 1.26s\n",
      "402:\tlearn: 0.2612034\ttotal: 852ms\tremaining: 1.26s\n",
      "403:\tlearn: 0.2611712\ttotal: 855ms\tremaining: 1.26s\n",
      "404:\tlearn: 0.2611338\ttotal: 857ms\tremaining: 1.26s\n",
      "405:\tlearn: 0.2611094\ttotal: 859ms\tremaining: 1.26s\n",
      "406:\tlearn: 0.2610481\ttotal: 862ms\tremaining: 1.25s\n",
      "407:\tlearn: 0.2610227\ttotal: 864ms\tremaining: 1.25s\n",
      "408:\tlearn: 0.2609623\ttotal: 866ms\tremaining: 1.25s\n",
      "409:\tlearn: 0.2608972\ttotal: 868ms\tremaining: 1.25s\n",
      "410:\tlearn: 0.2608455\ttotal: 871ms\tremaining: 1.25s\n",
      "411:\tlearn: 0.2607093\ttotal: 873ms\tremaining: 1.25s\n",
      "412:\tlearn: 0.2606746\ttotal: 875ms\tremaining: 1.24s\n",
      "413:\tlearn: 0.2606017\ttotal: 878ms\tremaining: 1.24s\n",
      "414:\tlearn: 0.2605420\ttotal: 880ms\tremaining: 1.24s\n",
      "415:\tlearn: 0.2604114\ttotal: 882ms\tremaining: 1.24s\n",
      "416:\tlearn: 0.2603503\ttotal: 885ms\tremaining: 1.24s\n",
      "417:\tlearn: 0.2603129\ttotal: 887ms\tremaining: 1.23s\n",
      "418:\tlearn: 0.2602654\ttotal: 889ms\tremaining: 1.23s\n",
      "419:\tlearn: 0.2602401\ttotal: 891ms\tremaining: 1.23s\n",
      "420:\tlearn: 0.2601408\ttotal: 894ms\tremaining: 1.23s\n",
      "421:\tlearn: 0.2600735\ttotal: 896ms\tremaining: 1.23s\n",
      "422:\tlearn: 0.2600463\ttotal: 898ms\tremaining: 1.22s\n",
      "423:\tlearn: 0.2600224\ttotal: 900ms\tremaining: 1.22s\n",
      "424:\tlearn: 0.2599868\ttotal: 903ms\tremaining: 1.22s\n",
      "425:\tlearn: 0.2598848\ttotal: 905ms\tremaining: 1.22s\n",
      "426:\tlearn: 0.2597955\ttotal: 907ms\tremaining: 1.22s\n",
      "427:\tlearn: 0.2597738\ttotal: 909ms\tremaining: 1.22s\n",
      "428:\tlearn: 0.2597625\ttotal: 912ms\tremaining: 1.21s\n"
     ]
    },
    {
     "name": "stdout",
     "output_type": "stream",
     "text": [
      "429:\tlearn: 0.2597163\ttotal: 914ms\tremaining: 1.21s\n",
      "430:\tlearn: 0.2596729\ttotal: 917ms\tremaining: 1.21s\n",
      "431:\tlearn: 0.2596233\ttotal: 919ms\tremaining: 1.21s\n",
      "432:\tlearn: 0.2595828\ttotal: 922ms\tremaining: 1.21s\n",
      "433:\tlearn: 0.2595399\ttotal: 924ms\tremaining: 1.2s\n",
      "434:\tlearn: 0.2594377\ttotal: 926ms\tremaining: 1.2s\n",
      "435:\tlearn: 0.2594061\ttotal: 927ms\tremaining: 1.2s\n",
      "436:\tlearn: 0.2593744\ttotal: 929ms\tremaining: 1.2s\n",
      "437:\tlearn: 0.2593223\ttotal: 931ms\tremaining: 1.19s\n",
      "438:\tlearn: 0.2592873\ttotal: 933ms\tremaining: 1.19s\n",
      "439:\tlearn: 0.2592443\ttotal: 935ms\tremaining: 1.19s\n",
      "440:\tlearn: 0.2592039\ttotal: 936ms\tremaining: 1.19s\n",
      "441:\tlearn: 0.2591829\ttotal: 938ms\tremaining: 1.18s\n",
      "442:\tlearn: 0.2591637\ttotal: 939ms\tremaining: 1.18s\n",
      "443:\tlearn: 0.2591332\ttotal: 942ms\tremaining: 1.18s\n",
      "444:\tlearn: 0.2591134\ttotal: 944ms\tremaining: 1.18s\n",
      "445:\tlearn: 0.2590922\ttotal: 946ms\tremaining: 1.18s\n",
      "446:\tlearn: 0.2590491\ttotal: 949ms\tremaining: 1.17s\n",
      "447:\tlearn: 0.2589779\ttotal: 953ms\tremaining: 1.17s\n",
      "448:\tlearn: 0.2589659\ttotal: 956ms\tremaining: 1.17s\n",
      "449:\tlearn: 0.2589526\ttotal: 957ms\tremaining: 1.17s\n",
      "450:\tlearn: 0.2589400\ttotal: 959ms\tremaining: 1.17s\n",
      "451:\tlearn: 0.2588734\ttotal: 962ms\tremaining: 1.17s\n",
      "452:\tlearn: 0.2588366\ttotal: 964ms\tremaining: 1.16s\n",
      "453:\tlearn: 0.2588164\ttotal: 966ms\tremaining: 1.16s\n",
      "454:\tlearn: 0.2587032\ttotal: 969ms\tremaining: 1.16s\n",
      "455:\tlearn: 0.2586816\ttotal: 971ms\tremaining: 1.16s\n",
      "456:\tlearn: 0.2586446\ttotal: 973ms\tremaining: 1.16s\n",
      "457:\tlearn: 0.2585806\ttotal: 975ms\tremaining: 1.15s\n",
      "458:\tlearn: 0.2585599\ttotal: 978ms\tremaining: 1.15s\n",
      "459:\tlearn: 0.2585003\ttotal: 980ms\tremaining: 1.15s\n",
      "460:\tlearn: 0.2584519\ttotal: 982ms\tremaining: 1.15s\n",
      "461:\tlearn: 0.2584232\ttotal: 985ms\tremaining: 1.15s\n",
      "462:\tlearn: 0.2584051\ttotal: 987ms\tremaining: 1.14s\n",
      "463:\tlearn: 0.2583657\ttotal: 989ms\tremaining: 1.14s\n",
      "464:\tlearn: 0.2583119\ttotal: 992ms\tremaining: 1.14s\n",
      "465:\tlearn: 0.2582944\ttotal: 994ms\tremaining: 1.14s\n",
      "466:\tlearn: 0.2582615\ttotal: 996ms\tremaining: 1.14s\n",
      "467:\tlearn: 0.2582428\ttotal: 999ms\tremaining: 1.14s\n",
      "468:\tlearn: 0.2581821\ttotal: 1s\tremaining: 1.13s\n",
      "469:\tlearn: 0.2581475\ttotal: 1s\tremaining: 1.13s\n",
      "470:\tlearn: 0.2581026\ttotal: 1s\tremaining: 1.13s\n",
      "471:\tlearn: 0.2580752\ttotal: 1.01s\tremaining: 1.13s\n",
      "472:\tlearn: 0.2580366\ttotal: 1.01s\tremaining: 1.13s\n",
      "473:\tlearn: 0.2580254\ttotal: 1.01s\tremaining: 1.12s\n",
      "474:\tlearn: 0.2579881\ttotal: 1.01s\tremaining: 1.12s\n",
      "475:\tlearn: 0.2579659\ttotal: 1.02s\tremaining: 1.12s\n",
      "476:\tlearn: 0.2579436\ttotal: 1.02s\tremaining: 1.12s\n",
      "477:\tlearn: 0.2579242\ttotal: 1.02s\tremaining: 1.11s\n",
      "478:\tlearn: 0.2579028\ttotal: 1.02s\tremaining: 1.11s\n",
      "479:\tlearn: 0.2578863\ttotal: 1.03s\tremaining: 1.11s\n",
      "480:\tlearn: 0.2578501\ttotal: 1.03s\tremaining: 1.11s\n",
      "481:\tlearn: 0.2578330\ttotal: 1.03s\tremaining: 1.11s\n",
      "482:\tlearn: 0.2578219\ttotal: 1.03s\tremaining: 1.11s\n",
      "483:\tlearn: 0.2578133\ttotal: 1.03s\tremaining: 1.1s\n",
      "484:\tlearn: 0.2577541\ttotal: 1.04s\tremaining: 1.1s\n",
      "485:\tlearn: 0.2577415\ttotal: 1.04s\tremaining: 1.1s\n",
      "486:\tlearn: 0.2577173\ttotal: 1.04s\tremaining: 1.1s\n",
      "487:\tlearn: 0.2576864\ttotal: 1.04s\tremaining: 1.1s\n",
      "488:\tlearn: 0.2576549\ttotal: 1.05s\tremaining: 1.09s\n",
      "489:\tlearn: 0.2576381\ttotal: 1.05s\tremaining: 1.09s\n",
      "490:\tlearn: 0.2576179\ttotal: 1.05s\tremaining: 1.09s\n",
      "491:\tlearn: 0.2576025\ttotal: 1.05s\tremaining: 1.09s\n",
      "492:\tlearn: 0.2575686\ttotal: 1.06s\tremaining: 1.09s\n",
      "493:\tlearn: 0.2574936\ttotal: 1.06s\tremaining: 1.09s\n",
      "494:\tlearn: 0.2574683\ttotal: 1.06s\tremaining: 1.08s\n",
      "495:\tlearn: 0.2574203\ttotal: 1.06s\tremaining: 1.08s\n",
      "496:\tlearn: 0.2573981\ttotal: 1.07s\tremaining: 1.08s\n",
      "497:\tlearn: 0.2573894\ttotal: 1.07s\tremaining: 1.08s\n",
      "498:\tlearn: 0.2573797\ttotal: 1.07s\tremaining: 1.08s\n",
      "499:\tlearn: 0.2572950\ttotal: 1.07s\tremaining: 1.07s\n",
      "500:\tlearn: 0.2571916\ttotal: 1.08s\tremaining: 1.07s\n",
      "501:\tlearn: 0.2571721\ttotal: 1.08s\tremaining: 1.07s\n",
      "502:\tlearn: 0.2571289\ttotal: 1.08s\tremaining: 1.07s\n",
      "503:\tlearn: 0.2571118\ttotal: 1.08s\tremaining: 1.07s\n",
      "504:\tlearn: 0.2570958\ttotal: 1.09s\tremaining: 1.06s\n",
      "505:\tlearn: 0.2570220\ttotal: 1.09s\tremaining: 1.06s\n",
      "506:\tlearn: 0.2570014\ttotal: 1.09s\tremaining: 1.06s\n",
      "507:\tlearn: 0.2569593\ttotal: 1.09s\tremaining: 1.06s\n",
      "508:\tlearn: 0.2569384\ttotal: 1.09s\tremaining: 1.06s\n",
      "509:\tlearn: 0.2569274\ttotal: 1.1s\tremaining: 1.05s\n",
      "510:\tlearn: 0.2568742\ttotal: 1.1s\tremaining: 1.05s\n",
      "511:\tlearn: 0.2568336\ttotal: 1.1s\tremaining: 1.05s\n",
      "512:\tlearn: 0.2568131\ttotal: 1.1s\tremaining: 1.05s\n",
      "513:\tlearn: 0.2567776\ttotal: 1.11s\tremaining: 1.05s\n",
      "514:\tlearn: 0.2567401\ttotal: 1.11s\tremaining: 1.04s\n",
      "515:\tlearn: 0.2566945\ttotal: 1.11s\tremaining: 1.04s\n",
      "516:\tlearn: 0.2566813\ttotal: 1.11s\tremaining: 1.04s\n",
      "517:\tlearn: 0.2566627\ttotal: 1.12s\tremaining: 1.04s\n",
      "518:\tlearn: 0.2565723\ttotal: 1.12s\tremaining: 1.04s\n",
      "519:\tlearn: 0.2565570\ttotal: 1.12s\tremaining: 1.03s\n",
      "520:\tlearn: 0.2565316\ttotal: 1.12s\tremaining: 1.03s\n",
      "521:\tlearn: 0.2564973\ttotal: 1.13s\tremaining: 1.03s\n",
      "522:\tlearn: 0.2564570\ttotal: 1.13s\tremaining: 1.03s\n",
      "523:\tlearn: 0.2564212\ttotal: 1.13s\tremaining: 1.03s\n",
      "524:\tlearn: 0.2563895\ttotal: 1.13s\tremaining: 1.02s\n",
      "525:\tlearn: 0.2563451\ttotal: 1.13s\tremaining: 1.02s\n",
      "526:\tlearn: 0.2563122\ttotal: 1.14s\tremaining: 1.02s\n",
      "527:\tlearn: 0.2562886\ttotal: 1.14s\tremaining: 1.02s\n",
      "528:\tlearn: 0.2562304\ttotal: 1.14s\tremaining: 1.02s\n",
      "529:\tlearn: 0.2561574\ttotal: 1.14s\tremaining: 1.01s\n",
      "530:\tlearn: 0.2561381\ttotal: 1.15s\tremaining: 1.01s\n",
      "531:\tlearn: 0.2561047\ttotal: 1.15s\tremaining: 1.01s\n",
      "532:\tlearn: 0.2560721\ttotal: 1.15s\tremaining: 1.01s\n",
      "533:\tlearn: 0.2560396\ttotal: 1.15s\tremaining: 1.01s\n",
      "534:\tlearn: 0.2560094\ttotal: 1.16s\tremaining: 1s\n",
      "535:\tlearn: 0.2559671\ttotal: 1.16s\tremaining: 1s\n",
      "536:\tlearn: 0.2559472\ttotal: 1.16s\tremaining: 1s\n",
      "537:\tlearn: 0.2559288\ttotal: 1.16s\tremaining: 998ms\n",
      "538:\tlearn: 0.2559031\ttotal: 1.16s\tremaining: 996ms\n",
      "539:\tlearn: 0.2558210\ttotal: 1.17s\tremaining: 994ms\n",
      "540:\tlearn: 0.2557839\ttotal: 1.17s\tremaining: 993ms\n",
      "541:\tlearn: 0.2557600\ttotal: 1.17s\tremaining: 991ms\n",
      "542:\tlearn: 0.2557215\ttotal: 1.17s\tremaining: 989ms\n",
      "543:\tlearn: 0.2556999\ttotal: 1.18s\tremaining: 987ms\n",
      "544:\tlearn: 0.2556759\ttotal: 1.18s\tremaining: 985ms\n",
      "545:\tlearn: 0.2556367\ttotal: 1.18s\tremaining: 983ms\n",
      "546:\tlearn: 0.2555909\ttotal: 1.18s\tremaining: 981ms\n",
      "547:\tlearn: 0.2555603\ttotal: 1.19s\tremaining: 978ms\n",
      "548:\tlearn: 0.2554992\ttotal: 1.19s\tremaining: 976ms\n",
      "549:\tlearn: 0.2554677\ttotal: 1.19s\tremaining: 974ms\n",
      "550:\tlearn: 0.2554316\ttotal: 1.19s\tremaining: 972ms\n",
      "551:\tlearn: 0.2553960\ttotal: 1.2s\tremaining: 970ms\n",
      "552:\tlearn: 0.2553663\ttotal: 1.2s\tremaining: 968ms\n",
      "553:\tlearn: 0.2553558\ttotal: 1.2s\tremaining: 965ms\n",
      "554:\tlearn: 0.2553449\ttotal: 1.2s\tremaining: 962ms\n",
      "555:\tlearn: 0.2553120\ttotal: 1.2s\tremaining: 960ms\n",
      "556:\tlearn: 0.2552703\ttotal: 1.2s\tremaining: 957ms\n",
      "557:\tlearn: 0.2552592\ttotal: 1.21s\tremaining: 955ms\n",
      "558:\tlearn: 0.2552212\ttotal: 1.21s\tremaining: 952ms\n",
      "559:\tlearn: 0.2552035\ttotal: 1.21s\tremaining: 949ms\n",
      "560:\tlearn: 0.2551664\ttotal: 1.21s\tremaining: 947ms\n",
      "561:\tlearn: 0.2551593\ttotal: 1.21s\tremaining: 945ms\n",
      "562:\tlearn: 0.2551310\ttotal: 1.21s\tremaining: 943ms\n",
      "563:\tlearn: 0.2550963\ttotal: 1.22s\tremaining: 941ms\n",
      "564:\tlearn: 0.2550837\ttotal: 1.22s\tremaining: 938ms\n",
      "565:\tlearn: 0.2550738\ttotal: 1.22s\tremaining: 935ms\n",
      "566:\tlearn: 0.2550390\ttotal: 1.22s\tremaining: 932ms\n",
      "567:\tlearn: 0.2550296\ttotal: 1.22s\tremaining: 930ms\n",
      "568:\tlearn: 0.2550214\ttotal: 1.22s\tremaining: 927ms\n",
      "569:\tlearn: 0.2549353\ttotal: 1.23s\tremaining: 924ms\n",
      "570:\tlearn: 0.2549216\ttotal: 1.23s\tremaining: 922ms\n",
      "571:\tlearn: 0.2549102\ttotal: 1.23s\tremaining: 919ms\n",
      "572:\tlearn: 0.2548907\ttotal: 1.23s\tremaining: 917ms\n",
      "573:\tlearn: 0.2548762\ttotal: 1.23s\tremaining: 914ms\n",
      "574:\tlearn: 0.2548267\ttotal: 1.23s\tremaining: 911ms\n",
      "575:\tlearn: 0.2547744\ttotal: 1.23s\tremaining: 909ms\n",
      "576:\tlearn: 0.2547627\ttotal: 1.24s\tremaining: 906ms\n",
      "577:\tlearn: 0.2547348\ttotal: 1.24s\tremaining: 903ms\n",
      "578:\tlearn: 0.2546998\ttotal: 1.24s\tremaining: 901ms\n",
      "579:\tlearn: 0.2546832\ttotal: 1.24s\tremaining: 898ms\n",
      "580:\tlearn: 0.2546734\ttotal: 1.24s\tremaining: 895ms\n",
      "581:\tlearn: 0.2546437\ttotal: 1.24s\tremaining: 893ms\n",
      "582:\tlearn: 0.2546156\ttotal: 1.24s\tremaining: 890ms\n",
      "583:\tlearn: 0.2545857\ttotal: 1.25s\tremaining: 887ms\n",
      "584:\tlearn: 0.2545739\ttotal: 1.25s\tremaining: 885ms\n",
      "585:\tlearn: 0.2545459\ttotal: 1.25s\tremaining: 882ms\n",
      "586:\tlearn: 0.2545204\ttotal: 1.25s\tremaining: 880ms\n",
      "587:\tlearn: 0.2545054\ttotal: 1.25s\tremaining: 877ms\n",
      "588:\tlearn: 0.2544871\ttotal: 1.25s\tremaining: 874ms\n",
      "589:\tlearn: 0.2544063\ttotal: 1.25s\tremaining: 872ms\n",
      "590:\tlearn: 0.2543741\ttotal: 1.25s\tremaining: 869ms\n",
      "591:\tlearn: 0.2542999\ttotal: 1.26s\tremaining: 867ms\n",
      "592:\tlearn: 0.2542838\ttotal: 1.26s\tremaining: 864ms\n",
      "593:\tlearn: 0.2542627\ttotal: 1.26s\tremaining: 861ms\n",
      "594:\tlearn: 0.2542357\ttotal: 1.26s\tremaining: 859ms\n",
      "595:\tlearn: 0.2542240\ttotal: 1.26s\tremaining: 857ms\n",
      "596:\tlearn: 0.2542059\ttotal: 1.27s\tremaining: 855ms\n",
      "597:\tlearn: 0.2542059\ttotal: 1.27s\tremaining: 852ms\n",
      "598:\tlearn: 0.2541316\ttotal: 1.27s\tremaining: 850ms\n",
      "599:\tlearn: 0.2541055\ttotal: 1.27s\tremaining: 848ms\n",
      "600:\tlearn: 0.2540804\ttotal: 1.27s\tremaining: 846ms\n",
      "601:\tlearn: 0.2540562\ttotal: 1.28s\tremaining: 844ms\n",
      "602:\tlearn: 0.2540255\ttotal: 1.28s\tremaining: 842ms\n",
      "603:\tlearn: 0.2540015\ttotal: 1.28s\tremaining: 840ms\n",
      "604:\tlearn: 0.2539846\ttotal: 1.28s\tremaining: 838ms\n",
      "605:\tlearn: 0.2539704\ttotal: 1.28s\tremaining: 836ms\n",
      "606:\tlearn: 0.2539613\ttotal: 1.29s\tremaining: 834ms\n",
      "607:\tlearn: 0.2539385\ttotal: 1.29s\tremaining: 831ms\n",
      "608:\tlearn: 0.2539189\ttotal: 1.29s\tremaining: 829ms\n",
      "609:\tlearn: 0.2539012\ttotal: 1.29s\tremaining: 827ms\n",
      "610:\tlearn: 0.2538867\ttotal: 1.3s\tremaining: 825ms\n",
      "611:\tlearn: 0.2538536\ttotal: 1.3s\tremaining: 823ms\n",
      "612:\tlearn: 0.2538222\ttotal: 1.3s\tremaining: 821ms\n",
      "613:\tlearn: 0.2538148\ttotal: 1.3s\tremaining: 819ms\n",
      "614:\tlearn: 0.2538038\ttotal: 1.3s\tremaining: 817ms\n",
      "615:\tlearn: 0.2537516\ttotal: 1.31s\tremaining: 815ms\n",
      "616:\tlearn: 0.2537171\ttotal: 1.31s\tremaining: 813ms\n",
      "617:\tlearn: 0.2537051\ttotal: 1.31s\tremaining: 811ms\n",
      "618:\tlearn: 0.2536891\ttotal: 1.31s\tremaining: 809ms\n",
      "619:\tlearn: 0.2536840\ttotal: 1.31s\tremaining: 806ms\n",
      "620:\tlearn: 0.2536816\ttotal: 1.32s\tremaining: 804ms\n",
      "621:\tlearn: 0.2536756\ttotal: 1.32s\tremaining: 802ms\n",
      "622:\tlearn: 0.2536707\ttotal: 1.32s\tremaining: 800ms\n",
      "623:\tlearn: 0.2536706\ttotal: 1.32s\tremaining: 797ms\n",
      "624:\tlearn: 0.2536193\ttotal: 1.32s\tremaining: 795ms\n",
      "625:\tlearn: 0.2535923\ttotal: 1.33s\tremaining: 792ms\n",
      "626:\tlearn: 0.2535923\ttotal: 1.33s\tremaining: 790ms\n",
      "627:\tlearn: 0.2535769\ttotal: 1.33s\tremaining: 787ms\n",
      "628:\tlearn: 0.2535510\ttotal: 1.33s\tremaining: 785ms\n",
      "629:\tlearn: 0.2535234\ttotal: 1.33s\tremaining: 783ms\n",
      "630:\tlearn: 0.2535131\ttotal: 1.33s\tremaining: 781ms\n",
      "631:\tlearn: 0.2535058\ttotal: 1.34s\tremaining: 779ms\n",
      "632:\tlearn: 0.2534661\ttotal: 1.34s\tremaining: 777ms\n",
      "633:\tlearn: 0.2534390\ttotal: 1.34s\tremaining: 775ms\n",
      "634:\tlearn: 0.2534290\ttotal: 1.34s\tremaining: 773ms\n",
      "635:\tlearn: 0.2533626\ttotal: 1.35s\tremaining: 771ms\n",
      "636:\tlearn: 0.2533549\ttotal: 1.35s\tremaining: 769ms\n",
      "637:\tlearn: 0.2533263\ttotal: 1.35s\tremaining: 767ms\n"
     ]
    },
    {
     "name": "stdout",
     "output_type": "stream",
     "text": [
      "638:\tlearn: 0.2532835\ttotal: 1.35s\tremaining: 765ms\n",
      "639:\tlearn: 0.2532835\ttotal: 1.36s\tremaining: 763ms\n",
      "640:\tlearn: 0.2532764\ttotal: 1.36s\tremaining: 761ms\n",
      "641:\tlearn: 0.2532582\ttotal: 1.36s\tremaining: 758ms\n",
      "642:\tlearn: 0.2532539\ttotal: 1.36s\tremaining: 756ms\n",
      "643:\tlearn: 0.2532496\ttotal: 1.36s\tremaining: 754ms\n",
      "644:\tlearn: 0.2532285\ttotal: 1.36s\tremaining: 751ms\n",
      "645:\tlearn: 0.2532036\ttotal: 1.37s\tremaining: 749ms\n",
      "646:\tlearn: 0.2531718\ttotal: 1.37s\tremaining: 746ms\n",
      "647:\tlearn: 0.2531668\ttotal: 1.37s\tremaining: 744ms\n",
      "648:\tlearn: 0.2531512\ttotal: 1.37s\tremaining: 741ms\n",
      "649:\tlearn: 0.2530837\ttotal: 1.37s\tremaining: 739ms\n",
      "650:\tlearn: 0.2530682\ttotal: 1.37s\tremaining: 737ms\n",
      "651:\tlearn: 0.2530377\ttotal: 1.38s\tremaining: 734ms\n",
      "652:\tlearn: 0.2530125\ttotal: 1.38s\tremaining: 732ms\n",
      "653:\tlearn: 0.2529659\ttotal: 1.38s\tremaining: 730ms\n",
      "654:\tlearn: 0.2529569\ttotal: 1.38s\tremaining: 728ms\n",
      "655:\tlearn: 0.2529356\ttotal: 1.38s\tremaining: 726ms\n",
      "656:\tlearn: 0.2529184\ttotal: 1.39s\tremaining: 724ms\n",
      "657:\tlearn: 0.2528632\ttotal: 1.39s\tremaining: 722ms\n",
      "658:\tlearn: 0.2528527\ttotal: 1.39s\tremaining: 720ms\n",
      "659:\tlearn: 0.2528407\ttotal: 1.39s\tremaining: 717ms\n",
      "660:\tlearn: 0.2528315\ttotal: 1.39s\tremaining: 715ms\n",
      "661:\tlearn: 0.2528056\ttotal: 1.4s\tremaining: 713ms\n",
      "662:\tlearn: 0.2528028\ttotal: 1.4s\tremaining: 711ms\n",
      "663:\tlearn: 0.2527597\ttotal: 1.4s\tremaining: 709ms\n",
      "664:\tlearn: 0.2527518\ttotal: 1.4s\tremaining: 707ms\n",
      "665:\tlearn: 0.2527353\ttotal: 1.41s\tremaining: 705ms\n",
      "666:\tlearn: 0.2527260\ttotal: 1.41s\tremaining: 703ms\n",
      "667:\tlearn: 0.2527077\ttotal: 1.41s\tremaining: 701ms\n",
      "668:\tlearn: 0.2526981\ttotal: 1.41s\tremaining: 699ms\n",
      "669:\tlearn: 0.2526661\ttotal: 1.41s\tremaining: 697ms\n",
      "670:\tlearn: 0.2526551\ttotal: 1.42s\tremaining: 695ms\n",
      "671:\tlearn: 0.2526451\ttotal: 1.42s\tremaining: 694ms\n",
      "672:\tlearn: 0.2526196\ttotal: 1.42s\tremaining: 692ms\n",
      "673:\tlearn: 0.2526038\ttotal: 1.43s\tremaining: 690ms\n",
      "674:\tlearn: 0.2525965\ttotal: 1.43s\tremaining: 688ms\n",
      "675:\tlearn: 0.2525816\ttotal: 1.43s\tremaining: 686ms\n",
      "676:\tlearn: 0.2525421\ttotal: 1.43s\tremaining: 683ms\n",
      "677:\tlearn: 0.2525127\ttotal: 1.43s\tremaining: 681ms\n",
      "678:\tlearn: 0.2524919\ttotal: 1.44s\tremaining: 679ms\n",
      "679:\tlearn: 0.2524789\ttotal: 1.44s\tremaining: 677ms\n",
      "680:\tlearn: 0.2524527\ttotal: 1.44s\tremaining: 675ms\n",
      "681:\tlearn: 0.2524432\ttotal: 1.44s\tremaining: 673ms\n",
      "682:\tlearn: 0.2524138\ttotal: 1.45s\tremaining: 671ms\n",
      "683:\tlearn: 0.2523927\ttotal: 1.45s\tremaining: 669ms\n",
      "684:\tlearn: 0.2523680\ttotal: 1.45s\tremaining: 667ms\n",
      "685:\tlearn: 0.2523370\ttotal: 1.45s\tremaining: 665ms\n",
      "686:\tlearn: 0.2523256\ttotal: 1.45s\tremaining: 663ms\n",
      "687:\tlearn: 0.2522882\ttotal: 1.46s\tremaining: 661ms\n",
      "688:\tlearn: 0.2522462\ttotal: 1.46s\tremaining: 659ms\n",
      "689:\tlearn: 0.2522042\ttotal: 1.46s\tremaining: 657ms\n",
      "690:\tlearn: 0.2521898\ttotal: 1.46s\tremaining: 655ms\n",
      "691:\tlearn: 0.2521662\ttotal: 1.47s\tremaining: 653ms\n",
      "692:\tlearn: 0.2521211\ttotal: 1.47s\tremaining: 651ms\n",
      "693:\tlearn: 0.2521110\ttotal: 1.47s\tremaining: 648ms\n",
      "694:\tlearn: 0.2520875\ttotal: 1.47s\tremaining: 647ms\n",
      "695:\tlearn: 0.2520716\ttotal: 1.48s\tremaining: 644ms\n",
      "696:\tlearn: 0.2520378\ttotal: 1.48s\tremaining: 642ms\n",
      "697:\tlearn: 0.2520140\ttotal: 1.48s\tremaining: 640ms\n",
      "698:\tlearn: 0.2519944\ttotal: 1.48s\tremaining: 638ms\n",
      "699:\tlearn: 0.2519627\ttotal: 1.48s\tremaining: 636ms\n",
      "700:\tlearn: 0.2519395\ttotal: 1.49s\tremaining: 634ms\n",
      "701:\tlearn: 0.2518942\ttotal: 1.49s\tremaining: 632ms\n",
      "702:\tlearn: 0.2518340\ttotal: 1.49s\tremaining: 630ms\n",
      "703:\tlearn: 0.2518254\ttotal: 1.49s\tremaining: 628ms\n",
      "704:\tlearn: 0.2517832\ttotal: 1.5s\tremaining: 626ms\n",
      "705:\tlearn: 0.2517584\ttotal: 1.5s\tremaining: 624ms\n",
      "706:\tlearn: 0.2516707\ttotal: 1.5s\tremaining: 622ms\n",
      "707:\tlearn: 0.2516615\ttotal: 1.5s\tremaining: 620ms\n",
      "708:\tlearn: 0.2516393\ttotal: 1.5s\tremaining: 618ms\n",
      "709:\tlearn: 0.2516129\ttotal: 1.51s\tremaining: 616ms\n",
      "710:\tlearn: 0.2516066\ttotal: 1.51s\tremaining: 614ms\n",
      "711:\tlearn: 0.2515902\ttotal: 1.51s\tremaining: 611ms\n",
      "712:\tlearn: 0.2515810\ttotal: 1.51s\tremaining: 609ms\n",
      "713:\tlearn: 0.2515599\ttotal: 1.52s\tremaining: 607ms\n",
      "714:\tlearn: 0.2515477\ttotal: 1.52s\tremaining: 605ms\n",
      "715:\tlearn: 0.2515230\ttotal: 1.52s\tremaining: 603ms\n",
      "716:\tlearn: 0.2514683\ttotal: 1.52s\tremaining: 601ms\n",
      "717:\tlearn: 0.2514622\ttotal: 1.52s\tremaining: 598ms\n",
      "718:\tlearn: 0.2514424\ttotal: 1.52s\tremaining: 596ms\n",
      "719:\tlearn: 0.2514012\ttotal: 1.53s\tremaining: 594ms\n",
      "720:\tlearn: 0.2513510\ttotal: 1.53s\tremaining: 592ms\n",
      "721:\tlearn: 0.2513193\ttotal: 1.53s\tremaining: 590ms\n",
      "722:\tlearn: 0.2513097\ttotal: 1.53s\tremaining: 588ms\n",
      "723:\tlearn: 0.2513059\ttotal: 1.53s\tremaining: 585ms\n",
      "724:\tlearn: 0.2512810\ttotal: 1.54s\tremaining: 583ms\n",
      "725:\tlearn: 0.2512700\ttotal: 1.54s\tremaining: 581ms\n",
      "726:\tlearn: 0.2512550\ttotal: 1.54s\tremaining: 579ms\n",
      "727:\tlearn: 0.2512295\ttotal: 1.54s\tremaining: 577ms\n",
      "728:\tlearn: 0.2511993\ttotal: 1.55s\tremaining: 575ms\n",
      "729:\tlearn: 0.2511803\ttotal: 1.55s\tremaining: 573ms\n",
      "730:\tlearn: 0.2511674\ttotal: 1.55s\tremaining: 571ms\n",
      "731:\tlearn: 0.2511446\ttotal: 1.55s\tremaining: 569ms\n",
      "732:\tlearn: 0.2511144\ttotal: 1.55s\tremaining: 567ms\n",
      "733:\tlearn: 0.2510965\ttotal: 1.56s\tremaining: 565ms\n",
      "734:\tlearn: 0.2510890\ttotal: 1.56s\tremaining: 562ms\n",
      "735:\tlearn: 0.2510810\ttotal: 1.56s\tremaining: 560ms\n",
      "736:\tlearn: 0.2510639\ttotal: 1.56s\tremaining: 558ms\n",
      "737:\tlearn: 0.2510452\ttotal: 1.57s\tremaining: 556ms\n",
      "738:\tlearn: 0.2510256\ttotal: 1.57s\tremaining: 554ms\n",
      "739:\tlearn: 0.2510166\ttotal: 1.57s\tremaining: 552ms\n",
      "740:\tlearn: 0.2509815\ttotal: 1.57s\tremaining: 550ms\n",
      "741:\tlearn: 0.2509730\ttotal: 1.57s\tremaining: 548ms\n",
      "742:\tlearn: 0.2509465\ttotal: 1.58s\tremaining: 546ms\n",
      "743:\tlearn: 0.2509197\ttotal: 1.58s\tremaining: 544ms\n",
      "744:\tlearn: 0.2508878\ttotal: 1.58s\tremaining: 542ms\n",
      "745:\tlearn: 0.2508455\ttotal: 1.58s\tremaining: 539ms\n",
      "746:\tlearn: 0.2508009\ttotal: 1.59s\tremaining: 537ms\n",
      "747:\tlearn: 0.2507943\ttotal: 1.59s\tremaining: 535ms\n",
      "748:\tlearn: 0.2507757\ttotal: 1.59s\tremaining: 533ms\n",
      "749:\tlearn: 0.2507700\ttotal: 1.59s\tremaining: 531ms\n",
      "750:\tlearn: 0.2507283\ttotal: 1.59s\tremaining: 529ms\n",
      "751:\tlearn: 0.2507022\ttotal: 1.6s\tremaining: 527ms\n",
      "752:\tlearn: 0.2506821\ttotal: 1.6s\tremaining: 525ms\n",
      "753:\tlearn: 0.2506760\ttotal: 1.6s\tremaining: 523ms\n",
      "754:\tlearn: 0.2506543\ttotal: 1.6s\tremaining: 521ms\n",
      "755:\tlearn: 0.2506526\ttotal: 1.61s\tremaining: 519ms\n",
      "756:\tlearn: 0.2506403\ttotal: 1.61s\tremaining: 517ms\n",
      "757:\tlearn: 0.2506195\ttotal: 1.61s\tremaining: 514ms\n",
      "758:\tlearn: 0.2505884\ttotal: 1.61s\tremaining: 512ms\n",
      "759:\tlearn: 0.2505883\ttotal: 1.61s\tremaining: 510ms\n",
      "760:\tlearn: 0.2505674\ttotal: 1.62s\tremaining: 508ms\n",
      "761:\tlearn: 0.2505174\ttotal: 1.62s\tremaining: 506ms\n",
      "762:\tlearn: 0.2504924\ttotal: 1.62s\tremaining: 504ms\n",
      "763:\tlearn: 0.2504863\ttotal: 1.62s\tremaining: 502ms\n",
      "764:\tlearn: 0.2504692\ttotal: 1.63s\tremaining: 500ms\n",
      "765:\tlearn: 0.2504635\ttotal: 1.63s\tremaining: 498ms\n",
      "766:\tlearn: 0.2504529\ttotal: 1.63s\tremaining: 495ms\n",
      "767:\tlearn: 0.2504232\ttotal: 1.63s\tremaining: 493ms\n",
      "768:\tlearn: 0.2503890\ttotal: 1.64s\tremaining: 491ms\n",
      "769:\tlearn: 0.2503421\ttotal: 1.64s\tremaining: 489ms\n",
      "770:\tlearn: 0.2503327\ttotal: 1.64s\tremaining: 487ms\n",
      "771:\tlearn: 0.2503273\ttotal: 1.64s\tremaining: 485ms\n",
      "772:\tlearn: 0.2503164\ttotal: 1.64s\tremaining: 483ms\n",
      "773:\tlearn: 0.2503164\ttotal: 1.65s\tremaining: 481ms\n",
      "774:\tlearn: 0.2502618\ttotal: 1.65s\tremaining: 478ms\n",
      "775:\tlearn: 0.2502484\ttotal: 1.65s\tremaining: 476ms\n",
      "776:\tlearn: 0.2502062\ttotal: 1.65s\tremaining: 474ms\n",
      "777:\tlearn: 0.2501735\ttotal: 1.65s\tremaining: 472ms\n",
      "778:\tlearn: 0.2501608\ttotal: 1.66s\tremaining: 470ms\n",
      "779:\tlearn: 0.2501409\ttotal: 1.66s\tremaining: 468ms\n",
      "780:\tlearn: 0.2501349\ttotal: 1.66s\tremaining: 466ms\n",
      "781:\tlearn: 0.2501159\ttotal: 1.66s\tremaining: 464ms\n",
      "782:\tlearn: 0.2500390\ttotal: 1.67s\tremaining: 462ms\n",
      "783:\tlearn: 0.2500104\ttotal: 1.67s\tremaining: 459ms\n",
      "784:\tlearn: 0.2499743\ttotal: 1.67s\tremaining: 457ms\n",
      "785:\tlearn: 0.2499129\ttotal: 1.67s\tremaining: 455ms\n",
      "786:\tlearn: 0.2499008\ttotal: 1.67s\tremaining: 453ms\n",
      "787:\tlearn: 0.2498445\ttotal: 1.67s\tremaining: 450ms\n",
      "788:\tlearn: 0.2498273\ttotal: 1.68s\tremaining: 448ms\n",
      "789:\tlearn: 0.2498103\ttotal: 1.68s\tremaining: 446ms\n",
      "790:\tlearn: 0.2497974\ttotal: 1.68s\tremaining: 444ms\n",
      "791:\tlearn: 0.2497761\ttotal: 1.68s\tremaining: 441ms\n",
      "792:\tlearn: 0.2497725\ttotal: 1.68s\tremaining: 439ms\n",
      "793:\tlearn: 0.2497606\ttotal: 1.69s\tremaining: 437ms\n",
      "794:\tlearn: 0.2497218\ttotal: 1.69s\tremaining: 435ms\n",
      "795:\tlearn: 0.2497217\ttotal: 1.69s\tremaining: 433ms\n",
      "796:\tlearn: 0.2497099\ttotal: 1.69s\tremaining: 431ms\n",
      "797:\tlearn: 0.2496738\ttotal: 1.69s\tremaining: 429ms\n",
      "798:\tlearn: 0.2496681\ttotal: 1.7s\tremaining: 427ms\n",
      "799:\tlearn: 0.2496491\ttotal: 1.7s\tremaining: 425ms\n",
      "800:\tlearn: 0.2496427\ttotal: 1.7s\tremaining: 422ms\n",
      "801:\tlearn: 0.2496328\ttotal: 1.7s\tremaining: 420ms\n",
      "802:\tlearn: 0.2496319\ttotal: 1.7s\tremaining: 418ms\n",
      "803:\tlearn: 0.2496218\ttotal: 1.71s\tremaining: 416ms\n",
      "804:\tlearn: 0.2495987\ttotal: 1.71s\tremaining: 414ms\n",
      "805:\tlearn: 0.2495872\ttotal: 1.71s\tremaining: 412ms\n",
      "806:\tlearn: 0.2495422\ttotal: 1.71s\tremaining: 410ms\n",
      "807:\tlearn: 0.2494954\ttotal: 1.72s\tremaining: 408ms\n",
      "808:\tlearn: 0.2494685\ttotal: 1.72s\tremaining: 406ms\n",
      "809:\tlearn: 0.2494623\ttotal: 1.72s\tremaining: 404ms\n",
      "810:\tlearn: 0.2494435\ttotal: 1.72s\tremaining: 401ms\n",
      "811:\tlearn: 0.2494377\ttotal: 1.72s\tremaining: 399ms\n",
      "812:\tlearn: 0.2493865\ttotal: 1.73s\tremaining: 397ms\n",
      "813:\tlearn: 0.2493865\ttotal: 1.73s\tremaining: 395ms\n",
      "814:\tlearn: 0.2493729\ttotal: 1.73s\tremaining: 393ms\n",
      "815:\tlearn: 0.2493625\ttotal: 1.73s\tremaining: 391ms\n",
      "816:\tlearn: 0.2493534\ttotal: 1.74s\tremaining: 389ms\n",
      "817:\tlearn: 0.2493454\ttotal: 1.74s\tremaining: 387ms\n",
      "818:\tlearn: 0.2493399\ttotal: 1.74s\tremaining: 384ms\n",
      "819:\tlearn: 0.2493286\ttotal: 1.74s\tremaining: 382ms\n",
      "820:\tlearn: 0.2493208\ttotal: 1.74s\tremaining: 380ms\n",
      "821:\tlearn: 0.2493133\ttotal: 1.75s\tremaining: 378ms\n",
      "822:\tlearn: 0.2493046\ttotal: 1.75s\tremaining: 376ms\n",
      "823:\tlearn: 0.2492878\ttotal: 1.75s\tremaining: 374ms\n",
      "824:\tlearn: 0.2492818\ttotal: 1.75s\tremaining: 372ms\n",
      "825:\tlearn: 0.2492690\ttotal: 1.75s\tremaining: 370ms\n",
      "826:\tlearn: 0.2492604\ttotal: 1.76s\tremaining: 368ms\n",
      "827:\tlearn: 0.2492468\ttotal: 1.76s\tremaining: 365ms\n",
      "828:\tlearn: 0.2492437\ttotal: 1.76s\tremaining: 363ms\n",
      "829:\tlearn: 0.2492339\ttotal: 1.76s\tremaining: 361ms\n",
      "830:\tlearn: 0.2492188\ttotal: 1.76s\tremaining: 359ms\n",
      "831:\tlearn: 0.2492104\ttotal: 1.77s\tremaining: 357ms\n",
      "832:\tlearn: 0.2491832\ttotal: 1.77s\tremaining: 355ms\n",
      "833:\tlearn: 0.2491674\ttotal: 1.77s\tremaining: 353ms\n",
      "834:\tlearn: 0.2491526\ttotal: 1.77s\tremaining: 351ms\n",
      "835:\tlearn: 0.2491443\ttotal: 1.78s\tremaining: 349ms\n",
      "836:\tlearn: 0.2491417\ttotal: 1.78s\tremaining: 346ms\n",
      "837:\tlearn: 0.2491383\ttotal: 1.78s\tremaining: 344ms\n",
      "838:\tlearn: 0.2491271\ttotal: 1.78s\tremaining: 342ms\n",
      "839:\tlearn: 0.2490973\ttotal: 1.78s\tremaining: 340ms\n",
      "840:\tlearn: 0.2490817\ttotal: 1.79s\tremaining: 338ms\n",
      "841:\tlearn: 0.2490692\ttotal: 1.79s\tremaining: 336ms\n",
      "842:\tlearn: 0.2490619\ttotal: 1.79s\tremaining: 334ms\n",
      "843:\tlearn: 0.2490409\ttotal: 1.79s\tremaining: 332ms\n",
      "844:\tlearn: 0.2490169\ttotal: 1.8s\tremaining: 330ms\n",
      "845:\tlearn: 0.2489969\ttotal: 1.8s\tremaining: 327ms\n",
      "846:\tlearn: 0.2489846\ttotal: 1.8s\tremaining: 325ms\n",
      "847:\tlearn: 0.2489747\ttotal: 1.8s\tremaining: 323ms\n",
      "848:\tlearn: 0.2489570\ttotal: 1.8s\tremaining: 321ms\n",
      "849:\tlearn: 0.2489450\ttotal: 1.81s\tremaining: 319ms\n",
      "850:\tlearn: 0.2489371\ttotal: 1.81s\tremaining: 317ms\n"
     ]
    },
    {
     "name": "stdout",
     "output_type": "stream",
     "text": [
      "851:\tlearn: 0.2489273\ttotal: 1.81s\tremaining: 315ms\n",
      "852:\tlearn: 0.2489178\ttotal: 1.81s\tremaining: 313ms\n",
      "853:\tlearn: 0.2488976\ttotal: 1.81s\tremaining: 310ms\n",
      "854:\tlearn: 0.2488965\ttotal: 1.82s\tremaining: 308ms\n",
      "855:\tlearn: 0.2488763\ttotal: 1.82s\tremaining: 306ms\n",
      "856:\tlearn: 0.2488491\ttotal: 1.82s\tremaining: 304ms\n",
      "857:\tlearn: 0.2487987\ttotal: 1.82s\tremaining: 301ms\n",
      "858:\tlearn: 0.2487930\ttotal: 1.82s\tremaining: 299ms\n",
      "859:\tlearn: 0.2487694\ttotal: 1.82s\tremaining: 297ms\n",
      "860:\tlearn: 0.2487620\ttotal: 1.83s\tremaining: 295ms\n",
      "861:\tlearn: 0.2487339\ttotal: 1.83s\tremaining: 293ms\n",
      "862:\tlearn: 0.2487339\ttotal: 1.83s\tremaining: 290ms\n",
      "863:\tlearn: 0.2487023\ttotal: 1.83s\tremaining: 288ms\n",
      "864:\tlearn: 0.2486754\ttotal: 1.83s\tremaining: 286ms\n",
      "865:\tlearn: 0.2486395\ttotal: 1.83s\tremaining: 284ms\n",
      "866:\tlearn: 0.2486122\ttotal: 1.83s\tremaining: 281ms\n",
      "867:\tlearn: 0.2486000\ttotal: 1.84s\tremaining: 279ms\n",
      "868:\tlearn: 0.2485755\ttotal: 1.84s\tremaining: 277ms\n",
      "869:\tlearn: 0.2485512\ttotal: 1.84s\tremaining: 275ms\n",
      "870:\tlearn: 0.2485311\ttotal: 1.84s\tremaining: 273ms\n",
      "871:\tlearn: 0.2485280\ttotal: 1.84s\tremaining: 271ms\n",
      "872:\tlearn: 0.2484923\ttotal: 1.85s\tremaining: 269ms\n",
      "873:\tlearn: 0.2484675\ttotal: 1.85s\tremaining: 267ms\n",
      "874:\tlearn: 0.2484531\ttotal: 1.85s\tremaining: 264ms\n",
      "875:\tlearn: 0.2484452\ttotal: 1.85s\tremaining: 262ms\n",
      "876:\tlearn: 0.2484094\ttotal: 1.85s\tremaining: 260ms\n",
      "877:\tlearn: 0.2483949\ttotal: 1.86s\tremaining: 258ms\n",
      "878:\tlearn: 0.2483905\ttotal: 1.86s\tremaining: 256ms\n",
      "879:\tlearn: 0.2483368\ttotal: 1.86s\tremaining: 254ms\n",
      "880:\tlearn: 0.2483146\ttotal: 1.86s\tremaining: 252ms\n",
      "881:\tlearn: 0.2483099\ttotal: 1.87s\tremaining: 250ms\n",
      "882:\tlearn: 0.2482887\ttotal: 1.87s\tremaining: 248ms\n",
      "883:\tlearn: 0.2482654\ttotal: 1.87s\tremaining: 245ms\n",
      "884:\tlearn: 0.2482546\ttotal: 1.87s\tremaining: 243ms\n",
      "885:\tlearn: 0.2482455\ttotal: 1.88s\tremaining: 241ms\n",
      "886:\tlearn: 0.2482240\ttotal: 1.88s\tremaining: 239ms\n",
      "887:\tlearn: 0.2482073\ttotal: 1.88s\tremaining: 237ms\n",
      "888:\tlearn: 0.2481796\ttotal: 1.88s\tremaining: 235ms\n",
      "889:\tlearn: 0.2481480\ttotal: 1.88s\tremaining: 233ms\n",
      "890:\tlearn: 0.2481393\ttotal: 1.89s\tremaining: 231ms\n",
      "891:\tlearn: 0.2481339\ttotal: 1.89s\tremaining: 229ms\n",
      "892:\tlearn: 0.2481311\ttotal: 1.89s\tremaining: 227ms\n",
      "893:\tlearn: 0.2481165\ttotal: 1.89s\tremaining: 224ms\n",
      "894:\tlearn: 0.2481059\ttotal: 1.9s\tremaining: 222ms\n",
      "895:\tlearn: 0.2480848\ttotal: 1.9s\tremaining: 220ms\n",
      "896:\tlearn: 0.2480613\ttotal: 1.9s\tremaining: 218ms\n",
      "897:\tlearn: 0.2480424\ttotal: 1.9s\tremaining: 216ms\n",
      "898:\tlearn: 0.2480191\ttotal: 1.9s\tremaining: 214ms\n",
      "899:\tlearn: 0.2480095\ttotal: 1.91s\tremaining: 212ms\n",
      "900:\tlearn: 0.2479858\ttotal: 1.91s\tremaining: 210ms\n",
      "901:\tlearn: 0.2479787\ttotal: 1.91s\tremaining: 208ms\n",
      "902:\tlearn: 0.2479680\ttotal: 1.91s\tremaining: 206ms\n",
      "903:\tlearn: 0.2479467\ttotal: 1.92s\tremaining: 203ms\n",
      "904:\tlearn: 0.2479399\ttotal: 1.92s\tremaining: 201ms\n",
      "905:\tlearn: 0.2479052\ttotal: 1.92s\tremaining: 199ms\n",
      "906:\tlearn: 0.2478860\ttotal: 1.92s\tremaining: 197ms\n",
      "907:\tlearn: 0.2478741\ttotal: 1.93s\tremaining: 195ms\n",
      "908:\tlearn: 0.2478361\ttotal: 1.93s\tremaining: 193ms\n",
      "909:\tlearn: 0.2478263\ttotal: 1.93s\tremaining: 191ms\n",
      "910:\tlearn: 0.2478216\ttotal: 1.93s\tremaining: 189ms\n",
      "911:\tlearn: 0.2478167\ttotal: 1.94s\tremaining: 187ms\n",
      "912:\tlearn: 0.2477974\ttotal: 1.94s\tremaining: 185ms\n",
      "913:\tlearn: 0.2477929\ttotal: 1.94s\tremaining: 182ms\n",
      "914:\tlearn: 0.2477793\ttotal: 1.94s\tremaining: 180ms\n",
      "915:\tlearn: 0.2477763\ttotal: 1.94s\tremaining: 178ms\n",
      "916:\tlearn: 0.2477467\ttotal: 1.95s\tremaining: 176ms\n",
      "917:\tlearn: 0.2477364\ttotal: 1.95s\tremaining: 174ms\n",
      "918:\tlearn: 0.2477135\ttotal: 1.95s\tremaining: 172ms\n",
      "919:\tlearn: 0.2476963\ttotal: 1.95s\tremaining: 170ms\n",
      "920:\tlearn: 0.2476752\ttotal: 1.95s\tremaining: 168ms\n",
      "921:\tlearn: 0.2476695\ttotal: 1.96s\tremaining: 166ms\n",
      "922:\tlearn: 0.2476649\ttotal: 1.96s\tremaining: 163ms\n",
      "923:\tlearn: 0.2476619\ttotal: 1.96s\tremaining: 161ms\n",
      "924:\tlearn: 0.2476470\ttotal: 1.96s\tremaining: 159ms\n",
      "925:\tlearn: 0.2476374\ttotal: 1.96s\tremaining: 157ms\n",
      "926:\tlearn: 0.2475950\ttotal: 1.97s\tremaining: 155ms\n",
      "927:\tlearn: 0.2475783\ttotal: 1.97s\tremaining: 153ms\n",
      "928:\tlearn: 0.2475605\ttotal: 1.97s\tremaining: 150ms\n",
      "929:\tlearn: 0.2475535\ttotal: 1.97s\tremaining: 148ms\n",
      "930:\tlearn: 0.2475378\ttotal: 1.97s\tremaining: 146ms\n",
      "931:\tlearn: 0.2474907\ttotal: 1.97s\tremaining: 144ms\n",
      "932:\tlearn: 0.2474686\ttotal: 1.98s\tremaining: 142ms\n",
      "933:\tlearn: 0.2474586\ttotal: 1.98s\tremaining: 140ms\n",
      "934:\tlearn: 0.2474180\ttotal: 1.98s\tremaining: 138ms\n",
      "935:\tlearn: 0.2474109\ttotal: 1.98s\tremaining: 135ms\n",
      "936:\tlearn: 0.2474072\ttotal: 1.98s\tremaining: 133ms\n",
      "937:\tlearn: 0.2473906\ttotal: 1.98s\tremaining: 131ms\n",
      "938:\tlearn: 0.2473816\ttotal: 1.99s\tremaining: 129ms\n",
      "939:\tlearn: 0.2473698\ttotal: 1.99s\tremaining: 127ms\n",
      "940:\tlearn: 0.2473629\ttotal: 1.99s\tremaining: 125ms\n",
      "941:\tlearn: 0.2473568\ttotal: 1.99s\tremaining: 123ms\n",
      "942:\tlearn: 0.2473535\ttotal: 2s\tremaining: 121ms\n",
      "943:\tlearn: 0.2473413\ttotal: 2s\tremaining: 119ms\n",
      "944:\tlearn: 0.2472963\ttotal: 2s\tremaining: 116ms\n",
      "945:\tlearn: 0.2472893\ttotal: 2s\tremaining: 114ms\n",
      "946:\tlearn: 0.2472822\ttotal: 2s\tremaining: 112ms\n",
      "947:\tlearn: 0.2472622\ttotal: 2.01s\tremaining: 110ms\n",
      "948:\tlearn: 0.2472538\ttotal: 2.01s\tremaining: 108ms\n",
      "949:\tlearn: 0.2472324\ttotal: 2.01s\tremaining: 106ms\n",
      "950:\tlearn: 0.2472050\ttotal: 2.01s\tremaining: 104ms\n",
      "951:\tlearn: 0.2471956\ttotal: 2.02s\tremaining: 102ms\n",
      "952:\tlearn: 0.2471868\ttotal: 2.02s\tremaining: 99.5ms\n",
      "953:\tlearn: 0.2471685\ttotal: 2.02s\tremaining: 97.4ms\n",
      "954:\tlearn: 0.2471600\ttotal: 2.02s\tremaining: 95.3ms\n",
      "955:\tlearn: 0.2471451\ttotal: 2.02s\tremaining: 93.2ms\n",
      "956:\tlearn: 0.2471366\ttotal: 2.03s\tremaining: 91ms\n",
      "957:\tlearn: 0.2471144\ttotal: 2.03s\tremaining: 88.9ms\n",
      "958:\tlearn: 0.2471017\ttotal: 2.03s\tremaining: 86.8ms\n",
      "959:\tlearn: 0.2470849\ttotal: 2.03s\tremaining: 84.7ms\n",
      "960:\tlearn: 0.2470734\ttotal: 2.04s\tremaining: 82.6ms\n",
      "961:\tlearn: 0.2470561\ttotal: 2.04s\tremaining: 80.5ms\n",
      "962:\tlearn: 0.2470484\ttotal: 2.04s\tremaining: 78.4ms\n",
      "963:\tlearn: 0.2470422\ttotal: 2.04s\tremaining: 76.3ms\n",
      "964:\tlearn: 0.2470401\ttotal: 2.04s\tremaining: 74.1ms\n",
      "965:\tlearn: 0.2470199\ttotal: 2.05s\tremaining: 72ms\n",
      "966:\tlearn: 0.2469969\ttotal: 2.05s\tremaining: 69.9ms\n",
      "967:\tlearn: 0.2469678\ttotal: 2.05s\tremaining: 67.8ms\n",
      "968:\tlearn: 0.2469641\ttotal: 2.05s\tremaining: 65.7ms\n",
      "969:\tlearn: 0.2469359\ttotal: 2.06s\tremaining: 63.6ms\n",
      "970:\tlearn: 0.2469146\ttotal: 2.06s\tremaining: 61.5ms\n",
      "971:\tlearn: 0.2468669\ttotal: 2.06s\tremaining: 59.3ms\n",
      "972:\tlearn: 0.2468615\ttotal: 2.06s\tremaining: 57.2ms\n",
      "973:\tlearn: 0.2468194\ttotal: 2.06s\tremaining: 55.1ms\n",
      "974:\tlearn: 0.2468055\ttotal: 2.07s\tremaining: 53ms\n",
      "975:\tlearn: 0.2467776\ttotal: 2.07s\tremaining: 50.9ms\n",
      "976:\tlearn: 0.2467587\ttotal: 2.07s\tremaining: 48.8ms\n",
      "977:\tlearn: 0.2467565\ttotal: 2.07s\tremaining: 46.6ms\n",
      "978:\tlearn: 0.2467534\ttotal: 2.08s\tremaining: 44.5ms\n",
      "979:\tlearn: 0.2467259\ttotal: 2.08s\tremaining: 42.4ms\n",
      "980:\tlearn: 0.2467191\ttotal: 2.08s\tremaining: 40.3ms\n",
      "981:\tlearn: 0.2467151\ttotal: 2.08s\tremaining: 38.2ms\n",
      "982:\tlearn: 0.2467041\ttotal: 2.08s\tremaining: 36.1ms\n",
      "983:\tlearn: 0.2467012\ttotal: 2.09s\tremaining: 34ms\n",
      "984:\tlearn: 0.2466916\ttotal: 2.09s\tremaining: 31.8ms\n",
      "985:\tlearn: 0.2466789\ttotal: 2.09s\tremaining: 29.7ms\n",
      "986:\tlearn: 0.2466619\ttotal: 2.09s\tremaining: 27.6ms\n",
      "987:\tlearn: 0.2466509\ttotal: 2.1s\tremaining: 25.5ms\n",
      "988:\tlearn: 0.2466418\ttotal: 2.1s\tremaining: 23.4ms\n",
      "989:\tlearn: 0.2466326\ttotal: 2.1s\tremaining: 21.2ms\n",
      "990:\tlearn: 0.2466276\ttotal: 2.1s\tremaining: 19.1ms\n",
      "991:\tlearn: 0.2466229\ttotal: 2.11s\tremaining: 17ms\n",
      "992:\tlearn: 0.2465796\ttotal: 2.11s\tremaining: 14.9ms\n",
      "993:\tlearn: 0.2465649\ttotal: 2.11s\tremaining: 12.7ms\n",
      "994:\tlearn: 0.2465585\ttotal: 2.11s\tremaining: 10.6ms\n",
      "995:\tlearn: 0.2465532\ttotal: 2.12s\tremaining: 8.49ms\n",
      "996:\tlearn: 0.2465505\ttotal: 2.12s\tremaining: 6.37ms\n",
      "997:\tlearn: 0.2465284\ttotal: 2.12s\tremaining: 4.25ms\n",
      "998:\tlearn: 0.2465197\ttotal: 2.12s\tremaining: 2.12ms\n",
      "999:\tlearn: 0.2465112\ttotal: 2.12s\tremaining: 0us\n"
     ]
    },
    {
     "ename": "ValueError",
     "evalue": "Classification metrics can't handle a mix of binary and continuous targets",
     "output_type": "error",
     "traceback": [
      "\u001b[1;31m---------------------------------------------------------------------------\u001b[0m",
      "\u001b[1;31mValueError\u001b[0m                                Traceback (most recent call last)",
      "\u001b[1;32m<ipython-input-136-e1e6ea5e1bd7>\u001b[0m in \u001b[0;36m<module>\u001b[1;34m\u001b[0m\n\u001b[0;32m      2\u001b[0m \u001b[0mcat\u001b[0m\u001b[1;33m.\u001b[0m\u001b[0mfit\u001b[0m\u001b[1;33m(\u001b[0m\u001b[0mxtrain\u001b[0m\u001b[1;33m,\u001b[0m\u001b[0mytrain\u001b[0m\u001b[1;33m)\u001b[0m\u001b[1;33m\u001b[0m\u001b[1;33m\u001b[0m\u001b[0m\n\u001b[0;32m      3\u001b[0m \u001b[0mpred_cat\u001b[0m\u001b[1;33m=\u001b[0m\u001b[0mcat\u001b[0m\u001b[1;33m.\u001b[0m\u001b[0mpredict\u001b[0m\u001b[1;33m(\u001b[0m\u001b[0mxtest\u001b[0m\u001b[1;33m)\u001b[0m\u001b[1;33m\u001b[0m\u001b[1;33m\u001b[0m\u001b[0m\n\u001b[1;32m----> 4\u001b[1;33m \u001b[0maccu_cat\u001b[0m\u001b[1;33m=\u001b[0m\u001b[0maccuracy_score\u001b[0m\u001b[1;33m(\u001b[0m\u001b[0mytest\u001b[0m\u001b[1;33m,\u001b[0m\u001b[0mpred_cat\u001b[0m\u001b[1;33m)\u001b[0m\u001b[1;33m*\u001b[0m\u001b[1;36m100\u001b[0m\u001b[1;33m\u001b[0m\u001b[1;33m\u001b[0m\u001b[0m\n\u001b[0m\u001b[0;32m      5\u001b[0m \u001b[0maccu_cat\u001b[0m\u001b[1;33m\u001b[0m\u001b[1;33m\u001b[0m\u001b[0m\n",
      "\u001b[1;32m~\\anaconda3\\lib\\site-packages\\sklearn\\metrics\\_classification.py\u001b[0m in \u001b[0;36maccuracy_score\u001b[1;34m(y_true, y_pred, normalize, sample_weight)\u001b[0m\n\u001b[0;32m    183\u001b[0m \u001b[1;33m\u001b[0m\u001b[0m\n\u001b[0;32m    184\u001b[0m     \u001b[1;31m# Compute accuracy for each possible representation\u001b[0m\u001b[1;33m\u001b[0m\u001b[1;33m\u001b[0m\u001b[1;33m\u001b[0m\u001b[0m\n\u001b[1;32m--> 185\u001b[1;33m     \u001b[0my_type\u001b[0m\u001b[1;33m,\u001b[0m \u001b[0my_true\u001b[0m\u001b[1;33m,\u001b[0m \u001b[0my_pred\u001b[0m \u001b[1;33m=\u001b[0m \u001b[0m_check_targets\u001b[0m\u001b[1;33m(\u001b[0m\u001b[0my_true\u001b[0m\u001b[1;33m,\u001b[0m \u001b[0my_pred\u001b[0m\u001b[1;33m)\u001b[0m\u001b[1;33m\u001b[0m\u001b[1;33m\u001b[0m\u001b[0m\n\u001b[0m\u001b[0;32m    186\u001b[0m     \u001b[0mcheck_consistent_length\u001b[0m\u001b[1;33m(\u001b[0m\u001b[0my_true\u001b[0m\u001b[1;33m,\u001b[0m \u001b[0my_pred\u001b[0m\u001b[1;33m,\u001b[0m \u001b[0msample_weight\u001b[0m\u001b[1;33m)\u001b[0m\u001b[1;33m\u001b[0m\u001b[1;33m\u001b[0m\u001b[0m\n\u001b[0;32m    187\u001b[0m     \u001b[1;32mif\u001b[0m \u001b[0my_type\u001b[0m\u001b[1;33m.\u001b[0m\u001b[0mstartswith\u001b[0m\u001b[1;33m(\u001b[0m\u001b[1;34m'multilabel'\u001b[0m\u001b[1;33m)\u001b[0m\u001b[1;33m:\u001b[0m\u001b[1;33m\u001b[0m\u001b[1;33m\u001b[0m\u001b[0m\n",
      "\u001b[1;32m~\\anaconda3\\lib\\site-packages\\sklearn\\metrics\\_classification.py\u001b[0m in \u001b[0;36m_check_targets\u001b[1;34m(y_true, y_pred)\u001b[0m\n\u001b[0;32m     88\u001b[0m     \u001b[1;32mif\u001b[0m \u001b[0mlen\u001b[0m\u001b[1;33m(\u001b[0m\u001b[0my_type\u001b[0m\u001b[1;33m)\u001b[0m \u001b[1;33m>\u001b[0m \u001b[1;36m1\u001b[0m\u001b[1;33m:\u001b[0m\u001b[1;33m\u001b[0m\u001b[1;33m\u001b[0m\u001b[0m\n\u001b[0;32m     89\u001b[0m         raise ValueError(\"Classification metrics can't handle a mix of {0} \"\n\u001b[1;32m---> 90\u001b[1;33m                          \"and {1} targets\".format(type_true, type_pred))\n\u001b[0m\u001b[0;32m     91\u001b[0m \u001b[1;33m\u001b[0m\u001b[0m\n\u001b[0;32m     92\u001b[0m     \u001b[1;31m# We can't have more than one value on y_type => The set is no more needed\u001b[0m\u001b[1;33m\u001b[0m\u001b[1;33m\u001b[0m\u001b[1;33m\u001b[0m\u001b[0m\n",
      "\u001b[1;31mValueError\u001b[0m: Classification metrics can't handle a mix of binary and continuous targets"
     ]
    }
   ],
   "source": [
    "cat=CatBoostRegressor()\n",
    "cat.fit(xtrain,ytrain)\n",
    "pred_cat=cat.predict(xtest)\n",
    "accu_cat=accuracy_score(ytest,pred_cat)*100\n",
    "accu_cat"
   ]
  },
  {
   "cell_type": "code",
   "execution_count": 139,
   "metadata": {},
   "outputs": [],
   "source": [
    "tre=DecisionTreeClassifier()"
   ]
  },
  {
   "cell_type": "code",
   "execution_count": 140,
   "metadata": {},
   "outputs": [
    {
     "data": {
      "text/plain": [
       "86.96629213483146"
      ]
     },
     "execution_count": 140,
     "metadata": {},
     "output_type": "execute_result"
    }
   ],
   "source": [
    "tre.fit(xtrain,ytrain)\n",
    "pred_tre=tre.predict(xtest)\n",
    "accu_tre=accuracy_score(ytest,pred_tre)*100\n",
    "accu_tre"
   ]
  },
  {
   "cell_type": "code",
   "execution_count": 141,
   "metadata": {},
   "outputs": [
    {
     "name": "stdout",
     "output_type": "stream",
     "text": [
      "              precision    recall  f1-score   support\n",
      "\n",
      "           0       0.82      0.91      0.86       398\n",
      "           1       0.92      0.84      0.88       492\n",
      "\n",
      "    accuracy                           0.87       890\n",
      "   macro avg       0.87      0.87      0.87       890\n",
      "weighted avg       0.88      0.87      0.87       890\n",
      "\n"
     ]
    }
   ],
   "source": [
    "print(classification_report(ytest,pred_tre))"
   ]
  },
  {
   "cell_type": "code",
   "execution_count": null,
   "metadata": {},
   "outputs": [],
   "source": [
    "print(classification_report,pred_cat)"
   ]
  },
  {
   "cell_type": "code",
   "execution_count": 144,
   "metadata": {},
   "outputs": [
    {
     "data": {
      "text/html": [
       "<div>\n",
       "<style scoped>\n",
       "    .dataframe tbody tr th:only-of-type {\n",
       "        vertical-align: middle;\n",
       "    }\n",
       "\n",
       "    .dataframe tbody tr th {\n",
       "        vertical-align: top;\n",
       "    }\n",
       "\n",
       "    .dataframe thead th {\n",
       "        text-align: right;\n",
       "    }\n",
       "</style>\n",
       "<table border=\"1\" class=\"dataframe\">\n",
       "  <thead>\n",
       "    <tr style=\"text-align: right;\">\n",
       "      <th></th>\n",
       "      <th>Model</th>\n",
       "      <th>Score</th>\n",
       "    </tr>\n",
       "  </thead>\n",
       "  <tbody>\n",
       "    <tr>\n",
       "      <th>5</th>\n",
       "      <td>AdaBoostClassifier</td>\n",
       "      <td>87.528090</td>\n",
       "    </tr>\n",
       "    <tr>\n",
       "      <th>6</th>\n",
       "      <td>ExtraTreesClassifier</td>\n",
       "      <td>87.415730</td>\n",
       "    </tr>\n",
       "    <tr>\n",
       "      <th>3</th>\n",
       "      <td>BaggingClassifier</td>\n",
       "      <td>87.303371</td>\n",
       "    </tr>\n",
       "    <tr>\n",
       "      <th>1</th>\n",
       "      <td>DecisionTreeClassifier</td>\n",
       "      <td>86.966292</td>\n",
       "    </tr>\n",
       "    <tr>\n",
       "      <th>8</th>\n",
       "      <td>RandomForestClassifier</td>\n",
       "      <td>86.853933</td>\n",
       "    </tr>\n",
       "    <tr>\n",
       "      <th>7</th>\n",
       "      <td>SVM</td>\n",
       "      <td>86.629213</td>\n",
       "    </tr>\n",
       "    <tr>\n",
       "      <th>2</th>\n",
       "      <td>KNeighborsClassifier</td>\n",
       "      <td>84.494382</td>\n",
       "    </tr>\n",
       "    <tr>\n",
       "      <th>4</th>\n",
       "      <td>GaussianNB</td>\n",
       "      <td>77.303371</td>\n",
       "    </tr>\n",
       "    <tr>\n",
       "      <th>0</th>\n",
       "      <td>LogisticRegression</td>\n",
       "      <td>73.707865</td>\n",
       "    </tr>\n",
       "  </tbody>\n",
       "</table>\n",
       "</div>"
      ],
      "text/plain": [
       "                    Model      Score\n",
       "5      AdaBoostClassifier  87.528090\n",
       "6    ExtraTreesClassifier  87.415730\n",
       "3       BaggingClassifier  87.303371\n",
       "1  DecisionTreeClassifier  86.966292\n",
       "8  RandomForestClassifier  86.853933\n",
       "7                     SVM  86.629213\n",
       "2    KNeighborsClassifier  84.494382\n",
       "4              GaussianNB  77.303371\n",
       "0      LogisticRegression  73.707865"
      ]
     },
     "execution_count": 144,
     "metadata": {},
     "output_type": "execute_result"
    }
   ],
   "source": [
    "models = pd.DataFrame({\n",
    "    'Model': ['LogisticRegression','DecisionTreeClassifier','KNeighborsClassifier' \n",
    "             ,'BaggingClassifier','GaussianNB','AdaBoostClassifier','ExtraTreesClassifier','SVM','RandomForestClassifier'],\n",
    "    'Score': [accu_lo,accu_tre, accu_kne,accu_bag,accu_gau,accu_ada,accu_etc,accu_svc,accu_rnd]\n",
    "})\n",
    "\n",
    "models.sort_values(by = 'Score', ascending = False)"
   ]
  },
  {
   "cell_type": "code",
   "execution_count": 145,
   "metadata": {},
   "outputs": [
    {
     "data": {
      "image/png": "[encoded data removed]",
      "text/plain": [
       "<Figure size 1080x576 with 1 Axes>"
      ]
     },
     "metadata": {},
     "output_type": "display_data"
    }
   ],
   "source": [
    "colors = [\"purple\", \"green\", \"orange\", \"magenta\",\"blue\",\"black\",\"red\"]\n",
    "\n",
    "sns.set_style(\"whitegrid\")\n",
    "plt.figure(figsize=(15,8))\n",
    "plt.ylabel(\"Accuracy %\")\n",
    "plt.xlabel(\"Algorithms\")\n",
    "sns.barplot(x=models['Model'],y=models['Score'], palette=colors )\n",
    "plt.show()"
   ]
  },
  {
   "cell_type": "code",
   "execution_count": 146,
   "metadata": {},
   "outputs": [
    {
     "data": {
      "text/html": [
       "<div>\n",
       "<style scoped>\n",
       "    .dataframe tbody tr th:only-of-type {\n",
       "        vertical-align: middle;\n",
       "    }\n",
       "\n",
       "    .dataframe tbody tr th {\n",
       "        vertical-align: top;\n",
       "    }\n",
       "\n",
       "    .dataframe thead th {\n",
       "        text-align: right;\n",
       "    }\n",
       "</style>\n",
       "<table border=\"1\" class=\"dataframe\">\n",
       "  <thead>\n",
       "    <tr style=\"text-align: right;\">\n",
       "      <th></th>\n",
       "      <th>Age</th>\n",
       "      <th>Gender</th>\n",
       "      <th>Stream</th>\n",
       "      <th>Internships</th>\n",
       "      <th>CGPA</th>\n",
       "      <th>Hostel</th>\n",
       "      <th>HistoryOfBacklogs</th>\n",
       "      <th>PlacedOrNot</th>\n",
       "    </tr>\n",
       "  </thead>\n",
       "  <tbody>\n",
       "    <tr>\n",
       "      <th>0</th>\n",
       "      <td>22</td>\n",
       "      <td>1</td>\n",
       "      <td>3</td>\n",
       "      <td>1</td>\n",
       "      <td>8</td>\n",
       "      <td>1</td>\n",
       "      <td>1</td>\n",
       "      <td>1</td>\n",
       "    </tr>\n",
       "    <tr>\n",
       "      <th>1</th>\n",
       "      <td>21</td>\n",
       "      <td>0</td>\n",
       "      <td>1</td>\n",
       "      <td>0</td>\n",
       "      <td>7</td>\n",
       "      <td>1</td>\n",
       "      <td>1</td>\n",
       "      <td>1</td>\n",
       "    </tr>\n",
       "    <tr>\n",
       "      <th>2</th>\n",
       "      <td>22</td>\n",
       "      <td>0</td>\n",
       "      <td>4</td>\n",
       "      <td>1</td>\n",
       "      <td>6</td>\n",
       "      <td>0</td>\n",
       "      <td>0</td>\n",
       "      <td>1</td>\n",
       "    </tr>\n",
       "    <tr>\n",
       "      <th>3</th>\n",
       "      <td>21</td>\n",
       "      <td>1</td>\n",
       "      <td>4</td>\n",
       "      <td>0</td>\n",
       "      <td>8</td>\n",
       "      <td>0</td>\n",
       "      <td>1</td>\n",
       "      <td>1</td>\n",
       "    </tr>\n",
       "    <tr>\n",
       "      <th>4</th>\n",
       "      <td>22</td>\n",
       "      <td>1</td>\n",
       "      <td>5</td>\n",
       "      <td>0</td>\n",
       "      <td>8</td>\n",
       "      <td>1</td>\n",
       "      <td>0</td>\n",
       "      <td>1</td>\n",
       "    </tr>\n",
       "  </tbody>\n",
       "</table>\n",
       "</div>"
      ],
      "text/plain": [
       "   Age  Gender  Stream  Internships  CGPA  Hostel  HistoryOfBacklogs  \\\n",
       "0   22       1       3            1     8       1                  1   \n",
       "1   21       0       1            0     7       1                  1   \n",
       "2   22       0       4            1     6       0                  0   \n",
       "3   21       1       4            0     8       0                  1   \n",
       "4   22       1       5            0     8       1                  0   \n",
       "\n",
       "   PlacedOrNot  \n",
       "0            1  \n",
       "1            1  \n",
       "2            1  \n",
       "3            1  \n",
       "4            1  "
      ]
     },
     "execution_count": 146,
     "metadata": {},
     "output_type": "execute_result"
    }
   ],
   "source": [
    "df.head()"
   ]
  },
  {
   "cell_type": "code",
   "execution_count": 147,
   "metadata": {},
   "outputs": [],
   "source": [
    "import sklearn.cluster as cluster\n",
    "from sklearn.cluster import KMeans "
   ]
  },
  {
   "cell_type": "code",
   "execution_count": 148,
   "metadata": {},
   "outputs": [],
   "source": [
    "kmns=cluster.KMeans(n_clusters=5)\n",
    "kmns=kmns.fit(df[['Gender','Internships']])"
   ]
  },
  {
   "cell_type": "code",
   "execution_count": 149,
   "metadata": {},
   "outputs": [
    {
     "data": {
      "text/plain": [
       "array([[ 1.00000000e+00, -9.32587341e-15],\n",
       "       [ 8.30423940e-01,  2.12718204e+00],\n",
       "       [ 1.00000000e+00,  1.00000000e+00],\n",
       "       [ 4.66293670e-15,  1.00000000e+00],\n",
       "       [ 3.33066907e-15,  1.77635684e-15]])"
      ]
     },
     "execution_count": 149,
     "metadata": {},
     "output_type": "execute_result"
    }
   ],
   "source": [
    "kmns.cluster_centers_"
   ]
  },
  {
   "cell_type": "code",
   "execution_count": 150,
   "metadata": {},
   "outputs": [],
   "source": [
    "df['Gender by Internships']=kmns.labels_"
   ]
  },
  {
   "cell_type": "code",
   "execution_count": 151,
   "metadata": {},
   "outputs": [],
   "source": [
    "k_range=range(1,15)\n",
    "wss=[]"
   ]
  },
  {
   "cell_type": "code",
   "execution_count": 152,
   "metadata": {},
   "outputs": [
    {
     "name": "stderr",
     "output_type": "stream",
     "text": [
      "C:\\Users\\Md Asif Ikbal\\anaconda3\\lib\\site-packages\\ipykernel_launcher.py:3: ConvergenceWarning: Number of distinct clusters (8) found smaller than n_clusters (9). Possibly due to duplicate points in X.\n",
      "  This is separate from the ipykernel package so we can avoid doing imports until\n",
      "C:\\Users\\Md Asif Ikbal\\anaconda3\\lib\\site-packages\\ipykernel_launcher.py:3: ConvergenceWarning: Number of distinct clusters (8) found smaller than n_clusters (10). Possibly due to duplicate points in X.\n",
      "  This is separate from the ipykernel package so we can avoid doing imports until\n",
      "C:\\Users\\Md Asif Ikbal\\anaconda3\\lib\\site-packages\\ipykernel_launcher.py:3: ConvergenceWarning: Number of distinct clusters (8) found smaller than n_clusters (11). Possibly due to duplicate points in X.\n",
      "  This is separate from the ipykernel package so we can avoid doing imports until\n",
      "C:\\Users\\Md Asif Ikbal\\anaconda3\\lib\\site-packages\\ipykernel_launcher.py:3: ConvergenceWarning: Number of distinct clusters (8) found smaller than n_clusters (12). Possibly due to duplicate points in X.\n",
      "  This is separate from the ipykernel package so we can avoid doing imports until\n",
      "C:\\Users\\Md Asif Ikbal\\anaconda3\\lib\\site-packages\\ipykernel_launcher.py:3: ConvergenceWarning: Number of distinct clusters (8) found smaller than n_clusters (13). Possibly due to duplicate points in X.\n",
      "  This is separate from the ipykernel package so we can avoid doing imports until\n",
      "C:\\Users\\Md Asif Ikbal\\anaconda3\\lib\\site-packages\\ipykernel_launcher.py:3: ConvergenceWarning: Number of distinct clusters (8) found smaller than n_clusters (14). Possibly due to duplicate points in X.\n",
      "  This is separate from the ipykernel package so we can avoid doing imports until\n"
     ]
    }
   ],
   "source": [
    "for k in k_range:\n",
    "    km=KMeans(n_clusters=k)\n",
    "    km.fit(df[['Gender','Internships']])\n",
    "    wss.append(km.inertia_)"
   ]
  },
  {
   "cell_type": "code",
   "execution_count": 153,
   "metadata": {
    "collapsed": true
   },
   "outputs": [
    {
     "data": {
      "text/plain": [
       "[2034.21915037087,\n",
       " 833.7999802406505,\n",
       " 448.6962105076715,\n",
       " 200.46244907825002,\n",
       " 100.98254364089777,\n",
       " 44.178369546016604,\n",
       " 9.686274509803923,\n",
       " 1.9061753188728264e-25,\n",
       " 6.681977811605758e-26,\n",
       " 6.681977811605758e-26,\n",
       " 2.3630701275932642e-26,\n",
       " 2.3630701275932642e-26,\n",
       " 8.692464477606151e-27,\n",
       " 8.692464477606151e-27]"
      ]
     },
     "execution_count": 153,
     "metadata": {},
     "output_type": "execute_result"
    }
   ],
   "source": [
    "wss"
   ]
  },
  {
   "cell_type": "code",
   "execution_count": 154,
   "metadata": {},
   "outputs": [],
   "source": [
    "kmns=cluster.KMeans(n_clusters=5)\n",
    "kmns=kmns.fit(df[['Internships','CGPA']])"
   ]
  },
  {
   "cell_type": "code",
   "execution_count": 155,
   "metadata": {},
   "outputs": [
    {
     "data": {
      "text/plain": [
       "array([[ 1.28184554e+00,  6.52357071e+00],\n",
       "       [ 1.28405316e+00,  8.15116279e+00],\n",
       "       [ 7.72532189e-02,  5.81759657e+00],\n",
       "       [-5.66213743e-15,  7.00000000e+00],\n",
       "       [-6.32827124e-15,  8.15481172e+00]])"
      ]
     },
     "execution_count": 155,
     "metadata": {},
     "output_type": "execute_result"
    }
   ],
   "source": [
    "kmns.cluster_centers_"
   ]
  },
  {
   "cell_type": "code",
   "execution_count": 156,
   "metadata": {},
   "outputs": [],
   "source": [
    "df['Internships by CGPA']=kmns.labels_"
   ]
  },
  {
   "cell_type": "code",
   "execution_count": 157,
   "metadata": {},
   "outputs": [],
   "source": [
    "k_range=range(1,15)\n",
    "wss=[]"
   ]
  },
  {
   "cell_type": "code",
   "execution_count": 158,
   "metadata": {},
   "outputs": [],
   "source": [
    "for k in k_range:\n",
    "    km=KMeans(n_clusters=k)\n",
    "    km.fit(df[['Internships','CGPA']])\n",
    "    wss.append(km.inertia_)"
   ]
  },
  {
   "cell_type": "code",
   "execution_count": 159,
   "metadata": {},
   "outputs": [
    {
     "data": {
      "text/plain": [
       "[4401.330411328388,\n",
       " 2423.890988177998,\n",
       " 1667.4537704137397,\n",
       " 1221.8013534253348,\n",
       " 919.3732914174207,\n",
       " 654.7708131601073,\n",
       " 475.1400508166163,\n",
       " 339.5540207636147,\n",
       " 269.8354566280626,\n",
       " 186.652306758236,\n",
       " 152.33346617852584,\n",
       " 97.06279844229707,\n",
       " 75.55710915550073,\n",
       " 53.79171975324513]"
      ]
     },
     "execution_count": 159,
     "metadata": {},
     "output_type": "execute_result"
    }
   ],
   "source": [
    "wss"
   ]
  },
  {
   "cell_type": "code",
   "execution_count": 160,
   "metadata": {},
   "outputs": [
    {
     "data": {
      "text/html": [
       "<div>\n",
       "<style scoped>\n",
       "    .dataframe tbody tr th:only-of-type {\n",
       "        vertical-align: middle;\n",
       "    }\n",
       "\n",
       "    .dataframe tbody tr th {\n",
       "        vertical-align: top;\n",
       "    }\n",
       "\n",
       "    .dataframe thead th {\n",
       "        text-align: right;\n",
       "    }\n",
       "</style>\n",
       "<table border=\"1\" class=\"dataframe\">\n",
       "  <thead>\n",
       "    <tr style=\"text-align: right;\">\n",
       "      <th></th>\n",
       "      <th>Age</th>\n",
       "      <th>Gender</th>\n",
       "      <th>Stream</th>\n",
       "      <th>Internships</th>\n",
       "      <th>CGPA</th>\n",
       "      <th>Hostel</th>\n",
       "      <th>HistoryOfBacklogs</th>\n",
       "      <th>PlacedOrNot</th>\n",
       "      <th>Gender by Internships</th>\n",
       "      <th>Internships by CGPA</th>\n",
       "    </tr>\n",
       "  </thead>\n",
       "  <tbody>\n",
       "    <tr>\n",
       "      <th>0</th>\n",
       "      <td>22</td>\n",
       "      <td>1</td>\n",
       "      <td>3</td>\n",
       "      <td>1</td>\n",
       "      <td>8</td>\n",
       "      <td>1</td>\n",
       "      <td>1</td>\n",
       "      <td>1</td>\n",
       "      <td>2</td>\n",
       "      <td>1</td>\n",
       "    </tr>\n",
       "    <tr>\n",
       "      <th>1</th>\n",
       "      <td>21</td>\n",
       "      <td>0</td>\n",
       "      <td>1</td>\n",
       "      <td>0</td>\n",
       "      <td>7</td>\n",
       "      <td>1</td>\n",
       "      <td>1</td>\n",
       "      <td>1</td>\n",
       "      <td>4</td>\n",
       "      <td>3</td>\n",
       "    </tr>\n",
       "    <tr>\n",
       "      <th>2</th>\n",
       "      <td>22</td>\n",
       "      <td>0</td>\n",
       "      <td>4</td>\n",
       "      <td>1</td>\n",
       "      <td>6</td>\n",
       "      <td>0</td>\n",
       "      <td>0</td>\n",
       "      <td>1</td>\n",
       "      <td>3</td>\n",
       "      <td>0</td>\n",
       "    </tr>\n",
       "    <tr>\n",
       "      <th>3</th>\n",
       "      <td>21</td>\n",
       "      <td>1</td>\n",
       "      <td>4</td>\n",
       "      <td>0</td>\n",
       "      <td>8</td>\n",
       "      <td>0</td>\n",
       "      <td>1</td>\n",
       "      <td>1</td>\n",
       "      <td>0</td>\n",
       "      <td>4</td>\n",
       "    </tr>\n",
       "    <tr>\n",
       "      <th>4</th>\n",
       "      <td>22</td>\n",
       "      <td>1</td>\n",
       "      <td>5</td>\n",
       "      <td>0</td>\n",
       "      <td>8</td>\n",
       "      <td>1</td>\n",
       "      <td>0</td>\n",
       "      <td>1</td>\n",
       "      <td>0</td>\n",
       "      <td>4</td>\n",
       "    </tr>\n",
       "  </tbody>\n",
       "</table>\n",
       "</div>"
      ],
      "text/plain": [
       "   Age  Gender  Stream  Internships  CGPA  Hostel  HistoryOfBacklogs  \\\n",
       "0   22       1       3            1     8       1                  1   \n",
       "1   21       0       1            0     7       1                  1   \n",
       "2   22       0       4            1     6       0                  0   \n",
       "3   21       1       4            0     8       0                  1   \n",
       "4   22       1       5            0     8       1                  0   \n",
       "\n",
       "   PlacedOrNot  Gender by Internships  Internships by CGPA  \n",
       "0            1                      2                    1  \n",
       "1            1                      4                    3  \n",
       "2            1                      3                    0  \n",
       "3            1                      0                    4  \n",
       "4            1                      0                    4  "
      ]
     },
     "execution_count": 160,
     "metadata": {},
     "output_type": "execute_result"
    }
   ],
   "source": [
    "df.head()"
   ]
  },
  {
   "cell_type": "code",
   "execution_count": 162,
   "metadata": {
    "collapsed": true
   },
   "outputs": [
    {
     "data": {
      "text/plain": [
       "<matplotlib.axes._subplots.AxesSubplot at 0x1c12987ae48>"
      ]
     },
     "execution_count": 162,
     "metadata": {},
     "output_type": "execute_result"
    },
    {
     "data": {
      "image/png": "[encoded data removed]",
      "text/plain": [
       "<Figure size 432x288 with 1 Axes>"
      ]
     },
     "metadata": {},
     "output_type": "display_data"
    }
   ],
   "source": [
    "df.CGPA.value_counts().plot(kind='pie')"
   ]
  },
  {
   "cell_type": "code",
   "execution_count": 163,
   "metadata": {
    "collapsed": true
   },
   "outputs": [
    {
     "data": {
      "image/png": "[encoded data removed]",
      "text/plain": [
       "<Figure size 1080x936 with 2 Axes>"
      ]
     },
     "metadata": {},
     "output_type": "display_data"
    }
   ],
   "source": [
    "plt.figure(figsize=(15,13))\n",
    "cmap = sns.diverging_palette(230, 20, as_cmap=True)\n",
    "sns.heatmap(df.corr(),annot=True,cmap='Dark2_r',linewidths=2)\n",
    "plt.show()"
   ]
  },
  {
   "cell_type": "code",
   "execution_count": 164,
   "metadata": {
    "collapsed": true
   },
   "outputs": [
    {
     "data": {
      "text/plain": [
       "<matplotlib.axes._subplots.AxesSubplot at 0x1c12a3db808>"
      ]
     },
     "execution_count": 164,
     "metadata": {},
     "output_type": "execute_result"
    },
    {
     "data": {
      "image/png": "[encoded data removed]",
      "text/plain": [
       "<Figure size 1080x864 with 2 Axes>"
      ]
     },
     "metadata": {},
     "output_type": "display_data"
    }
   ],
   "source": [
    "plt.figure(figsize=(15,12))\n",
    "sns.heatmap(df.corr(),annot=True)"
   ]
  },
  {
   "cell_type": "code",
   "execution_count": 165,
   "metadata": {
    "collapsed": true
   },
   "outputs": [
    {
     "data": {
      "text/plain": [
       "<matplotlib.axes._subplots.AxesSubplot at 0x1c12a082f88>"
      ]
     },
     "execution_count": 165,
     "metadata": {},
     "output_type": "execute_result"
    },
    {
     "data": {
      "image/png": "[encoded data removed]",
      "text/plain": [
       "<Figure size 432x288 with 1 Axes>"
      ]
     },
     "metadata": {},
     "output_type": "display_data"
    }
   ],
   "source": [
    "sns.scatterplot(x='Gender',y='CGPA',data=df,color='red')"
   ]
  },
  {
   "cell_type": "code",
   "execution_count": 166,
   "metadata": {
    "collapsed": true
   },
   "outputs": [
    {
     "data": {
      "text/plain": [
       "<matplotlib.axes._subplots.AxesSubplot at 0x1c129f7fe08>"
      ]
     },
     "execution_count": 166,
     "metadata": {},
     "output_type": "execute_result"
    },
    {
     "data": {
      "image/png": "[encoded data removed]",
      "text/plain": [
       "<Figure size 1080x648 with 1 Axes>"
      ]
     },
     "metadata": {},
     "output_type": "display_data"
    }
   ],
   "source": [
    "plt.figure(figsize=(15,9))\n",
    "sns.boxplot(x='Gender',y='Internships',data=df)"
   ]
  },
  {
   "cell_type": "code",
   "execution_count": 167,
   "metadata": {
    "collapsed": true
   },
   "outputs": [
    {
     "data": {
      "text/plain": [
       "<matplotlib.axes._subplots.AxesSubplot at 0x1c12a143208>"
      ]
     },
     "execution_count": 167,
     "metadata": {},
     "output_type": "execute_result"
    },
    {
     "data": {
      "image/png": "[encoded data removed]",
      "text/plain": [
       "<Figure size 1080x648 with 1 Axes>"
      ]
     },
     "metadata": {},
     "output_type": "display_data"
    }
   ],
   "source": [
    "plt.figure(figsize=(15,9))\n",
    "sns.boxenplot(x='Gender',y='CGPA',data=df)"
   ]
  },
  {
   "cell_type": "code",
   "execution_count": 169,
   "metadata": {
    "collapsed": true
   },
   "outputs": [
    {
     "data": {
      "text/plain": [
       "<matplotlib.axes._subplots.AxesSubplot at 0x1c12a204e48>"
      ]
     },
     "execution_count": 169,
     "metadata": {},
     "output_type": "execute_result"
    },
    {
     "data": {
      "image/png": "[encoded data removed]",
      "text/plain": [
       "<Figure size 1080x648 with 1 Axes>"
      ]
     },
     "metadata": {},
     "output_type": "display_data"
    }
   ],
   "source": [
    "plt.figure(figsize=(15,9))\n",
    "sns.barplot(x='HistoryOfBacklogs',y='Hostel',data=df)"
   ]
  },
  {
   "cell_type": "code",
   "execution_count": 170,
   "metadata": {
    "collapsed": true
   },
   "outputs": [
    {
     "data": {
      "text/plain": [
       "<matplotlib.axes._subplots.AxesSubplot at 0x1c12a29b488>"
      ]
     },
     "execution_count": 170,
     "metadata": {},
     "output_type": "execute_result"
    },
    {
     "data": {
      "image/png": "[encoded data removed]",
      "text/plain": [
       "<Figure size 1080x648 with 1 Axes>"
      ]
     },
     "metadata": {},
     "output_type": "display_data"
    }
   ],
   "source": [
    "plt.figure(figsize=(15,9))\n",
    "sns.distplot(df['PlacedOrNot'],color='red')"
   ]
  },
  {
   "cell_type": "code",
   "execution_count": 171,
   "metadata": {
    "collapsed": true
   },
   "outputs": [
    {
     "data": {
      "text/plain": [
       "<matplotlib.axes._subplots.AxesSubplot at 0x1c12a239448>"
      ]
     },
     "execution_count": 171,
     "metadata": {},
     "output_type": "execute_result"
    },
    {
     "data": {
      "image/png": "[encoded data removed]",
      "text/plain": [
       "<Figure size 1080x648 with 1 Axes>"
      ]
     },
     "metadata": {},
     "output_type": "display_data"
    }
   ],
   "source": [
    "plt.figure(figsize=(15,9))\n",
    "sns.lineplot(x='Gender', y='CGPA',data=df,color=\"red\")"
   ]
  },
  {
   "cell_type": "code",
   "execution_count": 172,
   "metadata": {
    "collapsed": true
   },
   "outputs": [
    {
     "data": {
      "text/plain": [
       "<matplotlib.axes._subplots.AxesSubplot at 0x1c12aa07cc8>"
      ]
     },
     "execution_count": 172,
     "metadata": {},
     "output_type": "execute_result"
    },
    {
     "data": {
      "image/png": "[encoded data removed]",
      "text/plain": [
       "<Figure size 1080x648 with 1 Axes>"
      ]
     },
     "metadata": {},
     "output_type": "display_data"
    }
   ],
   "source": [
    "plt.figure(figsize=(15,9))\n",
    "sns.pointplot(x='Age',y='Gender',data=df,color='red')"
   ]
  },
  {
   "cell_type": "code",
   "execution_count": 173,
   "metadata": {
    "collapsed": true
   },
   "outputs": [
    {
     "data": {
      "text/plain": [
       "<seaborn.axisgrid.JointGrid at 0x1c12aa6fc88>"
      ]
     },
     "execution_count": 173,
     "metadata": {},
     "output_type": "execute_result"
    },
    {
     "data": {
      "text/plain": [
       "<Figure size 1080x648 with 0 Axes>"
      ]
     },
     "metadata": {},
     "output_type": "display_data"
    },
    {
     "data": {
      "image/png": "[encoded data removed]",
      "text/plain": [
       "<Figure size 432x432 with 3 Axes>"
      ]
     },
     "metadata": {},
     "output_type": "display_data"
    }
   ],
   "source": [
    "plt.figure(figsize=(15,9))\n",
    "sns.jointplot(x='Stream',y='Internships',data=df,kind='kde',color='red')"
   ]
  },
  {
   "cell_type": "code",
   "execution_count": 174,
   "metadata": {},
   "outputs": [
    {
     "data": {
      "text/plain": [
       "Index(['Age', 'Gender', 'Stream', 'Internships', 'CGPA', 'Hostel',\n",
       "       'HistoryOfBacklogs', 'PlacedOrNot', 'Gender by Internships',\n",
       "       'Internships by CGPA'],\n",
       "      dtype='object')"
      ]
     },
     "execution_count": 174,
     "metadata": {},
     "output_type": "execute_result"
    }
   ],
   "source": [
    "df.columns"
   ]
  },
  {
   "cell_type": "code",
   "execution_count": 176,
   "metadata": {
    "collapsed": true
   },
   "outputs": [
    {
     "data": {
      "text/plain": [
       "<matplotlib.axes._subplots.AxesSubplot at 0x1c12b843888>"
      ]
     },
     "execution_count": 176,
     "metadata": {},
     "output_type": "execute_result"
    },
    {
     "data": {
      "image/png": "[encoded data removed]",
      "text/plain": [
       "<Figure size 432x288 with 1 Axes>"
      ]
     },
     "metadata": {},
     "output_type": "display_data"
    }
   ],
   "source": [
    "sns.kdeplot(df['Age'])\n",
    "sns.kdeplot(df['Internships'])\n",
    "sns.kdeplot(df['CGPA'])"
   ]
  },
  {
   "cell_type": "code",
   "execution_count": 177,
   "metadata": {
    "collapsed": true
   },
   "outputs": [
    {
     "data": {
      "text/plain": [
       "<matplotlib.axes._subplots.AxesSubplot at 0x1c12b876cc8>"
      ]
     },
     "execution_count": 177,
     "metadata": {},
     "output_type": "execute_result"
    },
    {
     "data": {
      "image/png": "[encoded data removed]",
      "text/plain": [
       "<Figure size 432x288 with 1 Axes>"
      ]
     },
     "metadata": {},
     "output_type": "display_data"
    }
   ],
   "source": [
    "sns.violinplot(y=\"Gender\",data=df)\n",
    "sns.violinplot(y=\"Internships\",data=df,color='orange')\n",
    "sns.violinplot(y=\"CGPA\",data=df,color='red')"
   ]
  },
  {
   "cell_type": "code",
   "execution_count": 178,
   "metadata": {
    "collapsed": true
   },
   "outputs": [
    {
     "data": {
      "text/plain": [
       "<matplotlib.axes._subplots.AxesSubplot at 0x1c12b93fec8>"
      ]
     },
     "execution_count": 178,
     "metadata": {},
     "output_type": "execute_result"
    },
    {
     "data": {
      "image/png": "[encoded data removed]",
      "text/plain": [
       "<Figure size 432x288 with 1 Axes>"
      ]
     },
     "metadata": {},
     "output_type": "display_data"
    }
   ],
   "source": [
    "df.boxplot(column=\"Age\")\n",
    "df.boxplot(column=\"Gender\",color='orange')\n",
    "df.boxplot(column=\"CGPA\",color='red')"
   ]
  },
  {
   "cell_type": "code",
   "execution_count": 179,
   "metadata": {},
   "outputs": [],
   "source": [
    "import sweetviz as sv"
   ]
  },
  {
   "cell_type": "code",
   "execution_count": 180,
   "metadata": {},
   "outputs": [
    {
     "data": {
      "application/vnd.jupyter.widget-view+json": {
       "model_id": "923860347f0d495eb41bbf0e70a71550",
       "version_major": 2,
       "version_minor": 0
      },
      "text/plain": [
       "                                             |                                             | [  0%]   00:00 ->…"
      ]
     },
     "metadata": {},
     "output_type": "display_data"
    },
    {
     "name": "stdout",
     "output_type": "stream",
     "text": [
      "Report Analyze.html was generated! NOTEBOOK/COLAB USERS: the web browser MAY not pop up, regardless, the report IS saved in your notebook/colab files.\n"
     ]
    }
   ],
   "source": [
    "data=sv.analyze(df)\n",
    "data.show_html('Analyze.html')"
   ]
  },
  {
   "cell_type": "code",
   "execution_count": 181,
   "metadata": {},
   "outputs": [],
   "source": [
    "from IPython.display import IFrame"
   ]
  },
  {
   "cell_type": "code",
   "execution_count": 182,
   "metadata": {},
   "outputs": [
    {
     "data": {
      "text/html": [
       "\n",
       "        <iframe\n",
       "            width=\"1000\"\n",
       "            height=\"600\"\n",
       "            src=\"Analyze.html\"\n",
       "            frameborder=\"0\"\n",
       "            allowfullscreen\n",
       "        ></iframe>\n",
       "        "
      ],
      "text/plain": [
       "<IPython.lib.display.IFrame at 0x1c12d5fcc48>"
      ]
     },
     "execution_count": 182,
     "metadata": {},
     "output_type": "execute_result"
    }
   ],
   "source": [
    "IFrame(src='Analyze.html',width=1000,height=600)"
   ]
  },
  {
   "cell_type": "code",
   "execution_count": 183,
   "metadata": {},
   "outputs": [
    {
     "data": {
      "text/plain": [
       "Index(['Age', 'Gender', 'Stream', 'Internships', 'CGPA', 'Hostel',\n",
       "       'HistoryOfBacklogs', 'PlacedOrNot', 'Gender by Internships',\n",
       "       'Internships by CGPA'],\n",
       "      dtype='object')"
      ]
     },
     "execution_count": 183,
     "metadata": {},
     "output_type": "execute_result"
    }
   ],
   "source": [
    "df.columns"
   ]
  },
  {
   "cell_type": "code",
   "execution_count": 184,
   "metadata": {},
   "outputs": [],
   "source": [
    "from sklearn.preprocessing import MinMaxScaler\n",
    "from sklearn.preprocessing import StandardScaler"
   ]
  },
  {
   "cell_type": "code",
   "execution_count": 186,
   "metadata": {},
   "outputs": [
    {
     "data": {
      "text/html": [
       "<div>\n",
       "<style scoped>\n",
       "    .dataframe tbody tr th:only-of-type {\n",
       "        vertical-align: middle;\n",
       "    }\n",
       "\n",
       "    .dataframe tbody tr th {\n",
       "        vertical-align: top;\n",
       "    }\n",
       "\n",
       "    .dataframe thead th {\n",
       "        text-align: right;\n",
       "    }\n",
       "</style>\n",
       "<table border=\"1\" class=\"dataframe\">\n",
       "  <thead>\n",
       "    <tr style=\"text-align: right;\">\n",
       "      <th></th>\n",
       "      <th>Age</th>\n",
       "      <th>Gender</th>\n",
       "      <th>Stream</th>\n",
       "      <th>Internships</th>\n",
       "    </tr>\n",
       "  </thead>\n",
       "  <tbody>\n",
       "    <tr>\n",
       "      <th>0</th>\n",
       "      <td>0.272727</td>\n",
       "      <td>1.0</td>\n",
       "      <td>0.6</td>\n",
       "      <td>0.333333</td>\n",
       "    </tr>\n",
       "    <tr>\n",
       "      <th>1</th>\n",
       "      <td>0.181818</td>\n",
       "      <td>0.0</td>\n",
       "      <td>0.2</td>\n",
       "      <td>0.000000</td>\n",
       "    </tr>\n",
       "    <tr>\n",
       "      <th>2</th>\n",
       "      <td>0.272727</td>\n",
       "      <td>0.0</td>\n",
       "      <td>0.8</td>\n",
       "      <td>0.333333</td>\n",
       "    </tr>\n",
       "    <tr>\n",
       "      <th>3</th>\n",
       "      <td>0.181818</td>\n",
       "      <td>1.0</td>\n",
       "      <td>0.8</td>\n",
       "      <td>0.000000</td>\n",
       "    </tr>\n",
       "    <tr>\n",
       "      <th>4</th>\n",
       "      <td>0.272727</td>\n",
       "      <td>1.0</td>\n",
       "      <td>1.0</td>\n",
       "      <td>0.000000</td>\n",
       "    </tr>\n",
       "    <tr>\n",
       "      <th>...</th>\n",
       "      <td>...</td>\n",
       "      <td>...</td>\n",
       "      <td>...</td>\n",
       "      <td>...</td>\n",
       "    </tr>\n",
       "    <tr>\n",
       "      <th>2961</th>\n",
       "      <td>0.363636</td>\n",
       "      <td>1.0</td>\n",
       "      <td>0.8</td>\n",
       "      <td>0.000000</td>\n",
       "    </tr>\n",
       "    <tr>\n",
       "      <th>2962</th>\n",
       "      <td>0.363636</td>\n",
       "      <td>1.0</td>\n",
       "      <td>1.0</td>\n",
       "      <td>0.333333</td>\n",
       "    </tr>\n",
       "    <tr>\n",
       "      <th>2963</th>\n",
       "      <td>0.272727</td>\n",
       "      <td>1.0</td>\n",
       "      <td>0.8</td>\n",
       "      <td>0.333333</td>\n",
       "    </tr>\n",
       "    <tr>\n",
       "      <th>2964</th>\n",
       "      <td>0.272727</td>\n",
       "      <td>1.0</td>\n",
       "      <td>0.2</td>\n",
       "      <td>0.333333</td>\n",
       "    </tr>\n",
       "    <tr>\n",
       "      <th>2965</th>\n",
       "      <td>0.363636</td>\n",
       "      <td>1.0</td>\n",
       "      <td>0.0</td>\n",
       "      <td>0.000000</td>\n",
       "    </tr>\n",
       "  </tbody>\n",
       "</table>\n",
       "<p>2966 rows × 4 columns</p>\n",
       "</div>"
      ],
      "text/plain": [
       "           Age  Gender  Stream  Internships\n",
       "0     0.272727     1.0     0.6     0.333333\n",
       "1     0.181818     0.0     0.2     0.000000\n",
       "2     0.272727     0.0     0.8     0.333333\n",
       "3     0.181818     1.0     0.8     0.000000\n",
       "4     0.272727     1.0     1.0     0.000000\n",
       "...        ...     ...     ...          ...\n",
       "2961  0.363636     1.0     0.8     0.000000\n",
       "2962  0.363636     1.0     1.0     0.333333\n",
       "2963  0.272727     1.0     0.8     0.333333\n",
       "2964  0.272727     1.0     0.2     0.333333\n",
       "2965  0.363636     1.0     0.0     0.000000\n",
       "\n",
       "[2966 rows x 4 columns]"
      ]
     },
     "execution_count": 186,
     "metadata": {},
     "output_type": "execute_result"
    }
   ],
   "source": [
    "man=MinMaxScaler()\n",
    "feat=['Age', 'Gender', 'Stream', 'Internships']\n",
    "df[feat]=man.fit_transform(df[feat])\n",
    "df[feat]"
   ]
  },
  {
   "cell_type": "code",
   "execution_count": null,
   "metadata": {},
   "outputs": [],
   "source": []
  }
 ],
 "metadata": {
  "kernelspec": {
   "display_name": "Python 3",
   "language": "python",
   "name": "python3"
  },
  "language_info": {
   "codemirror_mode": {
    "name": "ipython",
    "version": 3
   },
   "file_extension": ".py",
   "mimetype": "text/x-python",
   "name": "python",
   "nbconvert_exporter": "python",
   "pygments_lexer": "ipython3",
   "version": "3.7.6"
  }
 },
 "nbformat": 4,
 "nbformat_minor": 4
}
